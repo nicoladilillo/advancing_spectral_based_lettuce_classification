{
 "cells": [
  {
   "cell_type": "code",
   "execution_count": 1,
   "metadata": {},
   "outputs": [],
   "source": [
    "import sys\n",
    "sys.path.insert(0, \"/Users/nicoladilillo/Projects_mac/lettuce_spectral_signature\")\n",
    "from cars_model import CARS\n",
    "import os"
   ]
  },
  {
   "cell_type": "code",
   "execution_count": 2,
   "metadata": {},
   "outputs": [
    {
     "name": "stdout",
     "output_type": "stream",
     "text": [
      "Training samples: 157\n",
      "\tClass Healty: 82 samples\n",
      "\tClass Unhealty: 75 samples\n",
      "Testing samples: 39\n",
      "\tClass Healty: 20 samples\n",
      "\tClass Unhealty: 19 samples\n"
     ]
    }
   ],
   "source": [
    "# extract the name of the file\n",
    "col_group = ['Date', 'Class', 'Stress_weight', 'Position']\n",
    "file_name = '10_SG_SVN/GA-iPLS_BOSS'\n",
    "path = os.path.join(os.path.abspath(os.getcwd()), file_name)\n",
    "c = CARS(path, MAX_COMPONENTS=10, col_group=col_group, calibration=False, cutoff=0.5)"
   ]
  },
  {
   "cell_type": "code",
   "execution_count": 3,
   "metadata": {},
   "outputs": [
    {
     "name": "stdout",
     "output_type": "stream",
     "text": [
      "Best accuracy for run 14 and iteration 658\n",
      "Best accuracy = 0.9230769230769232\n"
     ]
    },
    {
     "data": {
      "application/vnd.microsoft.datawrangler.viewer.v0+json": {
       "columns": [
        {
         "name": "index",
         "rawType": "int64",
         "type": "integer"
        },
        {
         "name": "Wavelengths",
         "rawType": "object",
         "type": "string"
        },
        {
         "name": "count",
         "rawType": "float64",
         "type": "float"
        }
       ],
       "ref": "8747879b-eb61-435e-b7d0-f27f4569e0cc",
       "rows": [
        [
         "0",
         "421.000",
         "1.0"
        ],
        [
         "1",
         "422.000",
         "0.0"
        ],
        [
         "2",
         "423.000",
         "0.0"
        ],
        [
         "3",
         "424.000",
         "0.0"
        ],
        [
         "4",
         "425.000",
         "0.0"
        ],
        [
         "5",
         "426.000",
         "0.0"
        ],
        [
         "6",
         "427.000",
         "0.0"
        ],
        [
         "7",
         "428.000",
         "0.0"
        ],
        [
         "8",
         "429.000",
         "0.0"
        ],
        [
         "9",
         "430.000",
         "0.0"
        ],
        [
         "10",
         "431.000",
         "0.0"
        ],
        [
         "11",
         "432.000",
         "0.0"
        ],
        [
         "12",
         "433.000",
         "0.0"
        ],
        [
         "13",
         "434.000",
         "0.0"
        ],
        [
         "14",
         "435.000",
         "0.0"
        ],
        [
         "15",
         "436.000",
         "0.0"
        ],
        [
         "16",
         "437.000",
         "1.0"
        ],
        [
         "17",
         "438.000",
         "0.0"
        ],
        [
         "18",
         "439.000",
         "0.0"
        ],
        [
         "19",
         "440.000",
         "0.0"
        ],
        [
         "20",
         "441.000",
         "1.0"
        ],
        [
         "21",
         "526.000",
         "1.0"
        ],
        [
         "22",
         "527.000",
         "0.0"
        ],
        [
         "23",
         "528.000",
         "0.0"
        ],
        [
         "24",
         "529.000",
         "1.0"
        ],
        [
         "25",
         "530.000",
         "0.0"
        ],
        [
         "26",
         "531.000",
         "0.0"
        ],
        [
         "27",
         "532.000",
         "0.0"
        ],
        [
         "28",
         "533.000",
         "0.0"
        ],
        [
         "29",
         "534.000",
         "0.0"
        ],
        [
         "30",
         "535.000",
         "0.0"
        ],
        [
         "31",
         "536.000",
         "0.0"
        ],
        [
         "32",
         "537.000",
         "1.0"
        ],
        [
         "33",
         "538.000",
         "0.0"
        ],
        [
         "34",
         "539.000",
         "0.0"
        ],
        [
         "35",
         "540.000",
         "0.0"
        ],
        [
         "36",
         "541.000",
         "0.0"
        ],
        [
         "37",
         "542.000",
         "0.0"
        ],
        [
         "38",
         "543.000",
         "0.0"
        ],
        [
         "39",
         "544.000",
         "0.0"
        ],
        [
         "40",
         "545.000",
         "0.0"
        ],
        [
         "41",
         "546.000",
         "0.0"
        ],
        [
         "42",
         "568.000",
         "0.0"
        ],
        [
         "43",
         "569.000",
         "0.0"
        ],
        [
         "44",
         "570.000",
         "0.0"
        ],
        [
         "45",
         "571.000",
         "0.0"
        ],
        [
         "46",
         "572.000",
         "0.0"
        ],
        [
         "47",
         "573.000",
         "1.0"
        ],
        [
         "48",
         "574.000",
         "0.0"
        ],
        [
         "49",
         "575.000",
         "0.0"
        ]
       ],
       "shape": {
        "columns": 2,
        "rows": 819
       }
      },
      "text/html": [
       "<div>\n",
       "<style scoped>\n",
       "    .dataframe tbody tr th:only-of-type {\n",
       "        vertical-align: middle;\n",
       "    }\n",
       "\n",
       "    .dataframe tbody tr th {\n",
       "        vertical-align: top;\n",
       "    }\n",
       "\n",
       "    .dataframe thead th {\n",
       "        text-align: right;\n",
       "    }\n",
       "</style>\n",
       "<table border=\"1\" class=\"dataframe\">\n",
       "  <thead>\n",
       "    <tr style=\"text-align: right;\">\n",
       "      <th></th>\n",
       "      <th>Wavelengths</th>\n",
       "      <th>count</th>\n",
       "    </tr>\n",
       "  </thead>\n",
       "  <tbody>\n",
       "    <tr>\n",
       "      <th>0</th>\n",
       "      <td>421.000</td>\n",
       "      <td>1.0</td>\n",
       "    </tr>\n",
       "    <tr>\n",
       "      <th>1</th>\n",
       "      <td>422.000</td>\n",
       "      <td>0.0</td>\n",
       "    </tr>\n",
       "    <tr>\n",
       "      <th>2</th>\n",
       "      <td>423.000</td>\n",
       "      <td>0.0</td>\n",
       "    </tr>\n",
       "    <tr>\n",
       "      <th>3</th>\n",
       "      <td>424.000</td>\n",
       "      <td>0.0</td>\n",
       "    </tr>\n",
       "    <tr>\n",
       "      <th>4</th>\n",
       "      <td>425.000</td>\n",
       "      <td>0.0</td>\n",
       "    </tr>\n",
       "    <tr>\n",
       "      <th>...</th>\n",
       "      <td>...</td>\n",
       "      <td>...</td>\n",
       "    </tr>\n",
       "    <tr>\n",
       "      <th>814</th>\n",
       "      <td>2390.000</td>\n",
       "      <td>0.0</td>\n",
       "    </tr>\n",
       "    <tr>\n",
       "      <th>815</th>\n",
       "      <td>2391.000</td>\n",
       "      <td>1.0</td>\n",
       "    </tr>\n",
       "    <tr>\n",
       "      <th>816</th>\n",
       "      <td>2392.000</td>\n",
       "      <td>0.0</td>\n",
       "    </tr>\n",
       "    <tr>\n",
       "      <th>817</th>\n",
       "      <td>2393.000</td>\n",
       "      <td>0.0</td>\n",
       "    </tr>\n",
       "    <tr>\n",
       "      <th>818</th>\n",
       "      <td>2394.000</td>\n",
       "      <td>1.0</td>\n",
       "    </tr>\n",
       "  </tbody>\n",
       "</table>\n",
       "<p>819 rows × 2 columns</p>\n",
       "</div>"
      ],
      "text/plain": [
       "    Wavelengths  count\n",
       "0       421.000    1.0\n",
       "1       422.000    0.0\n",
       "2       423.000    0.0\n",
       "3       424.000    0.0\n",
       "4       425.000    0.0\n",
       "..          ...    ...\n",
       "814    2390.000    0.0\n",
       "815    2391.000    1.0\n",
       "816    2392.000    0.0\n",
       "817    2393.000    0.0\n",
       "818    2394.000    1.0\n",
       "\n",
       "[819 rows x 2 columns]"
      ]
     },
     "execution_count": 3,
     "metadata": {},
     "output_type": "execute_result"
    }
   ],
   "source": [
    "w = c.compute_survived_wavelengths_best_score_single()\n",
    "c.plot_survived_df"
   ]
  },
  {
   "cell_type": "code",
   "execution_count": 4,
   "metadata": {},
   "outputs": [
    {
     "name": "stdout",
     "output_type": "stream",
     "text": [
      "['1008.000', '1039.000', '1041.000', '1092.000', '1093.000', '1102.000', '1109.000', '1164.000', '1165.000', '1171.000', '1184.000', '1190.000', '1222.000', '1225.000', '1228.000', '1229.000', '1233.000', '1234.000', '1245.000', '1253.000', '1284.000', '1299.000', '1300.000', '1303.000', '1304.000', '1318.000', '1388.000', '1424.000', '1425.000', '1461.000', '1485.000', '1486.000', '1490.000', '1494.000', '1500.000', '1518.000', '1525.000', '1530.000', '1546.000', '1556.000', '1566.000', '1573.000', '1577.000', '1590.000', '1596.000', '1729.000', '1736.000', '1738.000', '1791.000', '1792.000', '1895.000', '1909.000', '1976.000', '1995.000', '2005.000', '2006.000', '2007.000', '2015.000', '2062.000', '2064.000', '2070.000', '2113.000', '2200.000', '2202.000', '2217.000', '2221.000', '2341.000', '2345.000', '2346.000', '2347.000', '2388.000', '2391.000', '2394.000', '421.000', '437.000', '441.000', '526.000', '529.000', '537.000', '573.000', '580.000', '586.000', '715.000', '719.000', '732.000', '876.000', '930.000', '931.000', '940.000']\n",
      "\n",
      "Total combinations to test: 1\n",
      "\n",
      "Combination 0: ['1008.000', '1039.000', '1041.000', '1092.000', '1093.000', '1102.000', '1109.000', '1164.000', '1165.000', '1171.000', '1184.000', '1190.000', '1222.000', '1225.000', '1228.000', '1229.000', '1233.000', '1234.000', '1245.000', '1253.000', '1284.000', '1299.000', '1300.000', '1303.000', '1304.000', '1318.000', '1388.000', '1424.000', '1425.000', '1461.000', '1485.000', '1486.000', '1490.000', '1494.000', '1500.000', '1518.000', '1525.000', '1530.000', '1546.000', '1556.000', '1566.000', '1573.000', '1577.000', '1590.000', '1596.000', '1729.000', '1736.000', '1738.000', '1791.000', '1792.000', '1895.000', '1909.000', '1976.000', '1995.000', '2005.000', '2006.000', '2007.000', '2015.000', '2062.000', '2064.000', '2070.000', '2113.000', '2200.000', '2202.000', '2217.000', '2221.000', '2341.000', '2345.000', '2346.000', '2347.000', '2388.000', '2391.000', '2394.000', '421.000', '437.000', '441.000', '526.000', '529.000', '537.000', '573.000', '580.000', '586.000', '715.000', '719.000', '732.000', '876.000', '930.000', '931.000', '940.000']\n",
      "Number of wavelengths: 89\n",
      "Accuracy: 0.92, Recall: 0.89, Precision: 0.94, F1: 0.92 , nLV: 9, Cutoff: 0.50\n",
      "\n",
      "False & 89 & 0.92 & 0.89 & 0.94 & 0.92  & 9.00  & 0.50 \\\\ \\hline\n",
      "\n"
     ]
    },
    {
     "data": {
      "image/png": "[encoded data removed]",
      "text/plain": [
       "<Figure size 600x600 with 1 Axes>"
      ]
     },
     "metadata": {},
     "output_type": "display_data"
    }
   ],
   "source": [
    "a, l, y_pred = c.accuracy_survived_wavelenghts(thr=None, rdm=False, all=False, model_type='PLS', wavelengths=[w], learning_curve=False, pls_plot=False, peak_detection=False, confusion_matrix_f=True)"
   ]
  },
  {
   "cell_type": "code",
   "execution_count": 5,
   "metadata": {},
   "outputs": [],
   "source": [
    "# for i in l:\n",
    "#     print(len(i))\n",
    "#     c.permutation_test(wavelengths=i)"
   ]
  },
  {
   "cell_type": "code",
   "execution_count": 6,
   "metadata": {},
   "outputs": [
    {
     "name": "stdout",
     "output_type": "stream",
     "text": [
      "Mismatched: [('20-Jun-2023', 'Healty', 40, 97), ('17-May-2023', 'Unhealty', 20, 46), ('17-May-2023', 'Unhealty', 20, 51)]\n",
      "Corresponding Stress_weight values:\n",
      " Index([20, 20], dtype='int64', name='Stress_weight')\n"
     ]
    }
   ],
   "source": [
    "import numpy as np\n",
    "import pandas as pd\n",
    "\n",
    "# Step 1 & 2: Find indices where predictions differ from true values\n",
    "diff_indices = np.where(y_pred != c.y_test_2.flatten())[0]\n",
    "# print(diff_indices)\n",
    "\n",
    "# Step 3: Extract corresponding rows from c.df_test_2\n",
    "diff_rows = c.df_test_2.iloc[diff_indices]\n",
    "\n",
    "# Step 4: Filter rows where class is 'Uhealty'\n",
    "stress_rows = diff_rows[diff_rows.index.get_level_values('Class') == 'Unhealty']\n",
    "\n",
    "# Step : Extract 'Stress_weight' column\n",
    "stress_weights = stress_rows.index.get_level_values('Stress_weight')\n",
    "\n",
    "# If you want to print or return the results\n",
    "print(\"Mismatched:\", diff_rows.index.tolist())\n",
    "print(\"Corresponding Stress_weight values:\\n\", stress_weights)"
   ]
  }
 ],
 "metadata": {
  "kernelspec": {
   "display_name": "Python 3",
   "language": "python",
   "name": "python3"
  },
  "language_info": {
   "codemirror_mode": {
    "name": "ipython",
    "version": 3
   },
   "file_extension": ".py",
   "mimetype": "text/x-python",
   "name": "python",
   "nbconvert_exporter": "python",
   "pygments_lexer": "ipython3",
   "version": "3.11.11"
  }
 },
 "nbformat": 4,
 "nbformat_minor": 2
}
