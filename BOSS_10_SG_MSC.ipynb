{
 "cells": [
  {
   "cell_type": "code",
   "execution_count": 1,
   "metadata": {},
   "outputs": [],
   "source": [
    "import sys\n",
    "sys.path.insert(0, \"/Users/nicoladilillo/Projects_mac/lettuce_spectral_signature\")\n",
    "from cars_model import CARS\n",
    "import os"
   ]
  },
  {
   "cell_type": "code",
   "execution_count": 2,
   "metadata": {},
   "outputs": [
    {
     "name": "stdout",
     "output_type": "stream",
     "text": [
      "Training samples: 158\n",
      "\tClass Healty: 83 samples\n",
      "\tClass Unhealty: 75 samples\n",
      "Testing samples: 40\n",
      "\tClass Healty: 21 samples\n",
      "\tClass Unhealty: 19 samples\n"
     ]
    }
   ],
   "source": [
    "# extract the name of the file\n",
    "col_group = ['Date', 'Class', 'Stress_weight', 'Position']\n",
    "file_name = '10_SG_MSC/BOSS'\n",
    "path = os.path.join(os.path.abspath(os.getcwd()), file_name)\n",
    "c = CARS(path, MAX_COMPONENTS=10, col_group=col_group, calibration=False, cutoff=0.5)"
   ]
  },
  {
   "cell_type": "code",
   "execution_count": 3,
   "metadata": {},
   "outputs": [
    {
     "name": "stdout",
     "output_type": "stream",
     "text": [
      "Best accuracy for run 86 and iteration 88\n",
      "Best accuracy = 0.875\n"
     ]
    },
    {
     "data": {
      "application/vnd.microsoft.datawrangler.viewer.v0+json": {
       "columns": [
        {
         "name": "index",
         "rawType": "int64",
         "type": "integer"
        },
        {
         "name": "Wavelengths",
         "rawType": "object",
         "type": "string"
        },
        {
         "name": "count",
         "rawType": "float64",
         "type": "float"
        }
       ],
       "ref": "35ba7ab2-42a6-49c9-a3b0-e6752cc978d0",
       "rows": [
        [
         "0",
         "400.000",
         "0.0"
        ],
        [
         "1",
         "401.000",
         "0.0"
        ],
        [
         "2",
         "402.000",
         "0.0"
        ],
        [
         "3",
         "403.000",
         "0.0"
        ],
        [
         "4",
         "404.000",
         "0.0"
        ],
        [
         "5",
         "405.000",
         "0.0"
        ],
        [
         "6",
         "406.000",
         "0.0"
        ],
        [
         "7",
         "407.000",
         "0.0"
        ],
        [
         "8",
         "408.000",
         "0.0"
        ],
        [
         "9",
         "409.000",
         "0.0"
        ],
        [
         "10",
         "410.000",
         "0.0"
        ],
        [
         "11",
         "411.000",
         "0.0"
        ],
        [
         "12",
         "412.000",
         "0.0"
        ],
        [
         "13",
         "413.000",
         "0.0"
        ],
        [
         "14",
         "414.000",
         "0.0"
        ],
        [
         "15",
         "415.000",
         "0.0"
        ],
        [
         "16",
         "416.000",
         "0.0"
        ],
        [
         "17",
         "417.000",
         "0.0"
        ],
        [
         "18",
         "418.000",
         "0.0"
        ],
        [
         "19",
         "419.000",
         "0.0"
        ],
        [
         "20",
         "420.000",
         "0.0"
        ],
        [
         "21",
         "421.000",
         "0.0"
        ],
        [
         "22",
         "422.000",
         "0.0"
        ],
        [
         "23",
         "423.000",
         "0.0"
        ],
        [
         "24",
         "424.000",
         "0.0"
        ],
        [
         "25",
         "425.000",
         "0.0"
        ],
        [
         "26",
         "426.000",
         "0.0"
        ],
        [
         "27",
         "427.000",
         "0.0"
        ],
        [
         "28",
         "428.000",
         "0.0"
        ],
        [
         "29",
         "429.000",
         "0.0"
        ],
        [
         "30",
         "430.000",
         "0.0"
        ],
        [
         "31",
         "431.000",
         "0.0"
        ],
        [
         "32",
         "432.000",
         "0.0"
        ],
        [
         "33",
         "433.000",
         "0.0"
        ],
        [
         "34",
         "434.000",
         "0.0"
        ],
        [
         "35",
         "435.000",
         "0.0"
        ],
        [
         "36",
         "436.000",
         "0.0"
        ],
        [
         "37",
         "437.000",
         "0.0"
        ],
        [
         "38",
         "438.000",
         "0.0"
        ],
        [
         "39",
         "439.000",
         "0.0"
        ],
        [
         "40",
         "440.000",
         "0.0"
        ],
        [
         "41",
         "441.000",
         "0.0"
        ],
        [
         "42",
         "442.000",
         "0.0"
        ],
        [
         "43",
         "443.000",
         "0.0"
        ],
        [
         "44",
         "444.000",
         "0.0"
        ],
        [
         "45",
         "445.000",
         "0.0"
        ],
        [
         "46",
         "446.000",
         "0.0"
        ],
        [
         "47",
         "447.000",
         "0.0"
        ],
        [
         "48",
         "448.000",
         "0.0"
        ],
        [
         "49",
         "449.000",
         "0.0"
        ]
       ],
       "shape": {
        "columns": 2,
        "rows": 2101
       }
      },
      "text/html": [
       "<div>\n",
       "<style scoped>\n",
       "    .dataframe tbody tr th:only-of-type {\n",
       "        vertical-align: middle;\n",
       "    }\n",
       "\n",
       "    .dataframe tbody tr th {\n",
       "        vertical-align: top;\n",
       "    }\n",
       "\n",
       "    .dataframe thead th {\n",
       "        text-align: right;\n",
       "    }\n",
       "</style>\n",
       "<table border=\"1\" class=\"dataframe\">\n",
       "  <thead>\n",
       "    <tr style=\"text-align: right;\">\n",
       "      <th></th>\n",
       "      <th>Wavelengths</th>\n",
       "      <th>count</th>\n",
       "    </tr>\n",
       "  </thead>\n",
       "  <tbody>\n",
       "    <tr>\n",
       "      <th>0</th>\n",
       "      <td>400.000</td>\n",
       "      <td>0.0</td>\n",
       "    </tr>\n",
       "    <tr>\n",
       "      <th>1</th>\n",
       "      <td>401.000</td>\n",
       "      <td>0.0</td>\n",
       "    </tr>\n",
       "    <tr>\n",
       "      <th>2</th>\n",
       "      <td>402.000</td>\n",
       "      <td>0.0</td>\n",
       "    </tr>\n",
       "    <tr>\n",
       "      <th>3</th>\n",
       "      <td>403.000</td>\n",
       "      <td>0.0</td>\n",
       "    </tr>\n",
       "    <tr>\n",
       "      <th>4</th>\n",
       "      <td>404.000</td>\n",
       "      <td>0.0</td>\n",
       "    </tr>\n",
       "    <tr>\n",
       "      <th>...</th>\n",
       "      <td>...</td>\n",
       "      <td>...</td>\n",
       "    </tr>\n",
       "    <tr>\n",
       "      <th>2096</th>\n",
       "      <td>2496.000</td>\n",
       "      <td>0.0</td>\n",
       "    </tr>\n",
       "    <tr>\n",
       "      <th>2097</th>\n",
       "      <td>2497.000</td>\n",
       "      <td>0.0</td>\n",
       "    </tr>\n",
       "    <tr>\n",
       "      <th>2098</th>\n",
       "      <td>2498.000</td>\n",
       "      <td>0.0</td>\n",
       "    </tr>\n",
       "    <tr>\n",
       "      <th>2099</th>\n",
       "      <td>2499.000</td>\n",
       "      <td>0.0</td>\n",
       "    </tr>\n",
       "    <tr>\n",
       "      <th>2100</th>\n",
       "      <td>2500.000</td>\n",
       "      <td>0.0</td>\n",
       "    </tr>\n",
       "  </tbody>\n",
       "</table>\n",
       "<p>2101 rows × 2 columns</p>\n",
       "</div>"
      ],
      "text/plain": [
       "     Wavelengths  count\n",
       "0        400.000    0.0\n",
       "1        401.000    0.0\n",
       "2        402.000    0.0\n",
       "3        403.000    0.0\n",
       "4        404.000    0.0\n",
       "...          ...    ...\n",
       "2096    2496.000    0.0\n",
       "2097    2497.000    0.0\n",
       "2098    2498.000    0.0\n",
       "2099    2499.000    0.0\n",
       "2100    2500.000    0.0\n",
       "\n",
       "[2101 rows x 2 columns]"
      ]
     },
     "execution_count": 3,
     "metadata": {},
     "output_type": "execute_result"
    }
   ],
   "source": [
    "w = c.compute_survived_wavelengths_best_score_single()\n",
    "c.plot_survived_df\n"
   ]
  },
  {
   "cell_type": "code",
   "execution_count": 4,
   "metadata": {},
   "outputs": [
    {
     "name": "stdout",
     "output_type": "stream",
     "text": [
      "['1001.000', '1127.000', '1153.000', '1441.000', '1552.000', '1589.000', '1595.000', '1612.000', '1758.000', '1821.000', '1825.000', '1836.000', '1851.000', '1930.000', '1963.000', '1991.000', '1994.000', '2033.000', '2213.000', '2227.000', '2268.000', '2349.000', '2368.000', '2494.000', '460.000', '564.000', '579.000', '738.000', '740.000', '899.000', '911.000', '993.000']\n",
      "\n",
      "Total combinations to test: 1\n",
      "\n",
      "Combination 0: ['1001.000', '1127.000', '1153.000', '1441.000', '1552.000', '1589.000', '1595.000', '1612.000', '1758.000', '1821.000', '1825.000', '1836.000', '1851.000', '1930.000', '1963.000', '1991.000', '1994.000', '2033.000', '2213.000', '2227.000', '2268.000', '2349.000', '2368.000', '2494.000', '460.000', '564.000', '579.000', '738.000', '740.000', '899.000', '911.000', '993.000']\n",
      "Number of wavelengths: 32\n",
      "Accuracy: 0.88, Recall: 0.89, Precision: 0.85, F1: 0.87 , nLV: 10, Cutoff: 0.50\n",
      "\n",
      "False & 32 & 0.88 & 0.89 & 0.85 & 0.87  & 10.00  & 0.50 \\\\ \\hline\n",
      "\n"
     ]
    },
    {
     "data": {
      "image/png": "[encoded data removed]",
      "text/plain": [
       "<Figure size 600x600 with 1 Axes>"
      ]
     },
     "metadata": {},
     "output_type": "display_data"
    }
   ],
   "source": [
    "a, l, y_pred = c.accuracy_survived_wavelenghts(thr=None, rdm=False, all=False, model_type='PLS', wavelengths=[w], learning_curve=False, pls_plot=False, peak_detection=False, confusion_matrix_f=True)"
   ]
  },
  {
   "cell_type": "code",
   "execution_count": 5,
   "metadata": {},
   "outputs": [],
   "source": [
    "# c.permutation_test(wavelengths=w)"
   ]
  },
  {
   "cell_type": "code",
   "execution_count": 6,
   "metadata": {},
   "outputs": [
    {
     "name": "stdout",
     "output_type": "stream",
     "text": [
      "Mismatched: [('20-Jun-2023', 'Healty', 40, 94), ('20-Jun-2023', 'Healty', 40, 96), ('28-Jun-2023', 'Healty', 40, 130), ('17-May-2023', 'Unhealty', 20, 51), ('26-Apr-2023', 'Unhealty', 20, 10)]\n",
      "Corresponding Stress_weight values:\n",
      " Index([40, 40, 40, 20, 20], dtype='int64', name='Stress_weight')\n"
     ]
    }
   ],
   "source": [
    "import numpy as np\n",
    "import pandas as pd\n",
    "\n",
    "# Step 1 & 2: Find indices where predictions differ from true values\n",
    "diff_indices = np.where(y_pred != c.y_test_2.flatten())[0]\n",
    "# print(diff_indices)\n",
    "\n",
    "# Step 3: Extract corresponding rows from c.df_test_2\n",
    "diff_rows = c.df_test_2.iloc[diff_indices]\n",
    "\n",
    "# Step 4: Filter rows where class is 'Uhealty'\n",
    "stress_rows = diff_rows[diff_rows.index.get_level_values('Class') == 'Unhealty']\n",
    "\n",
    "# Step : Extract 'Stress_weight' column\n",
    "stress_weights = diff_rows.index.get_level_values('Stress_weight')\n",
    "\n",
    "# If you want to print or return the results\n",
    "print(\"Mismatched:\", diff_rows.index.tolist())\n",
    "print(\"Corresponding Stress_weight values:\\n\", stress_weights)"
   ]
  }
 ],
 "metadata": {
  "kernelspec": {
   "display_name": "Python 3",
   "language": "python",
   "name": "python3"
  },
  "language_info": {
   "codemirror_mode": {
    "name": "ipython",
    "version": 3
   },
   "file_extension": ".py",
   "mimetype": "text/x-python",
   "name": "python",
   "nbconvert_exporter": "python",
   "pygments_lexer": "ipython3",
   "version": "3.11.11"
  }
 },
 "nbformat": 4,
 "nbformat_minor": 2
}
