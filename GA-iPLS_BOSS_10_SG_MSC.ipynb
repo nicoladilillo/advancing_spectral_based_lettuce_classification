{
 "cells": [
  {
   "cell_type": "code",
   "execution_count": 1,
   "metadata": {},
   "outputs": [],
   "source": [
    "import sys\n",
    "sys.path.insert(0, \"/Users/nicoladilillo/Projects_mac/lettuce_spectral_signature\")\n",
    "from cars_model import CARS\n",
    "import os"
   ]
  },
  {
   "cell_type": "code",
   "execution_count": 2,
   "metadata": {},
   "outputs": [
    {
     "name": "stdout",
     "output_type": "stream",
     "text": [
      "Training samples: 158\n",
      "\tClass Healty: 83 samples\n",
      "\tClass Unhealty: 75 samples\n",
      "Testing samples: 40\n",
      "\tClass Healty: 21 samples\n",
      "\tClass Unhealty: 19 samples\n"
     ]
    }
   ],
   "source": [
    "# extract the name of the file\n",
    "col_group = ['Date', 'Class', 'Stress_weight', 'Position']\n",
    "file_name = '10_SG_MSC/GA-iPLS_BOSS'\n",
    "path = os.path.join(os.path.abspath(os.getcwd()), file_name)\n",
    "c = CARS(path, MAX_COMPONENTS=10, col_group=col_group, calibration=False, cutoff=0.5)"
   ]
  },
  {
   "cell_type": "code",
   "execution_count": 3,
   "metadata": {},
   "outputs": [
    {
     "name": "stdout",
     "output_type": "stream",
     "text": [
      "Best accuracy for run 49 and iteration 989\n",
      "Best accuracy = 0.85\n"
     ]
    },
    {
     "data": {
      "application/vnd.microsoft.datawrangler.viewer.v0+json": {
       "columns": [
        {
         "name": "index",
         "rawType": "int64",
         "type": "integer"
        },
        {
         "name": "Wavelengths",
         "rawType": "object",
         "type": "string"
        },
        {
         "name": "count",
         "rawType": "float64",
         "type": "float"
        }
       ],
       "ref": "8570627c-28f3-4540-9f85-630443da1147",
       "rows": [
        [
         "0",
         "400.000",
         "0.0"
        ],
        [
         "1",
         "401.000",
         "0.0"
        ],
        [
         "2",
         "402.000",
         "0.0"
        ],
        [
         "3",
         "403.000",
         "0.0"
        ],
        [
         "4",
         "404.000",
         "0.0"
        ],
        [
         "5",
         "405.000",
         "0.0"
        ],
        [
         "6",
         "406.000",
         "0.0"
        ],
        [
         "7",
         "407.000",
         "0.0"
        ],
        [
         "8",
         "408.000",
         "0.0"
        ],
        [
         "9",
         "409.000",
         "0.0"
        ],
        [
         "10",
         "410.000",
         "0.0"
        ],
        [
         "11",
         "411.000",
         "0.0"
        ],
        [
         "12",
         "412.000",
         "0.0"
        ],
        [
         "13",
         "413.000",
         "0.0"
        ],
        [
         "14",
         "414.000",
         "0.0"
        ],
        [
         "15",
         "415.000",
         "0.0"
        ],
        [
         "16",
         "416.000",
         "0.0"
        ],
        [
         "17",
         "417.000",
         "0.0"
        ],
        [
         "18",
         "418.000",
         "0.0"
        ],
        [
         "19",
         "419.000",
         "0.0"
        ],
        [
         "20",
         "420.000",
         "0.0"
        ],
        [
         "21",
         "421.000",
         "0.0"
        ],
        [
         "22",
         "422.000",
         "0.0"
        ],
        [
         "23",
         "423.000",
         "0.0"
        ],
        [
         "24",
         "424.000",
         "0.0"
        ],
        [
         "25",
         "425.000",
         "0.0"
        ],
        [
         "26",
         "426.000",
         "0.0"
        ],
        [
         "27",
         "427.000",
         "0.0"
        ],
        [
         "28",
         "428.000",
         "0.0"
        ],
        [
         "29",
         "429.000",
         "0.0"
        ],
        [
         "30",
         "430.000",
         "0.0"
        ],
        [
         "31",
         "431.000",
         "0.0"
        ],
        [
         "32",
         "432.000",
         "0.0"
        ],
        [
         "33",
         "433.000",
         "0.0"
        ],
        [
         "34",
         "434.000",
         "0.0"
        ],
        [
         "35",
         "435.000",
         "0.0"
        ],
        [
         "36",
         "436.000",
         "0.0"
        ],
        [
         "37",
         "437.000",
         "0.0"
        ],
        [
         "38",
         "438.000",
         "0.0"
        ],
        [
         "39",
         "439.000",
         "0.0"
        ],
        [
         "40",
         "440.000",
         "0.0"
        ],
        [
         "41",
         "441.000",
         "0.0"
        ],
        [
         "42",
         "526.000",
         "0.0"
        ],
        [
         "43",
         "527.000",
         "0.0"
        ],
        [
         "44",
         "528.000",
         "0.0"
        ],
        [
         "45",
         "529.000",
         "0.0"
        ],
        [
         "46",
         "530.000",
         "0.0"
        ],
        [
         "47",
         "531.000",
         "0.0"
        ],
        [
         "48",
         "532.000",
         "0.0"
        ],
        [
         "49",
         "533.000",
         "0.0"
        ]
       ],
       "shape": {
        "columns": 2,
        "rows": 546
       }
      },
      "text/html": [
       "<div>\n",
       "<style scoped>\n",
       "    .dataframe tbody tr th:only-of-type {\n",
       "        vertical-align: middle;\n",
       "    }\n",
       "\n",
       "    .dataframe tbody tr th {\n",
       "        vertical-align: top;\n",
       "    }\n",
       "\n",
       "    .dataframe thead th {\n",
       "        text-align: right;\n",
       "    }\n",
       "</style>\n",
       "<table border=\"1\" class=\"dataframe\">\n",
       "  <thead>\n",
       "    <tr style=\"text-align: right;\">\n",
       "      <th></th>\n",
       "      <th>Wavelengths</th>\n",
       "      <th>count</th>\n",
       "    </tr>\n",
       "  </thead>\n",
       "  <tbody>\n",
       "    <tr>\n",
       "      <th>0</th>\n",
       "      <td>400.000</td>\n",
       "      <td>0.0</td>\n",
       "    </tr>\n",
       "    <tr>\n",
       "      <th>1</th>\n",
       "      <td>401.000</td>\n",
       "      <td>0.0</td>\n",
       "    </tr>\n",
       "    <tr>\n",
       "      <th>2</th>\n",
       "      <td>402.000</td>\n",
       "      <td>0.0</td>\n",
       "    </tr>\n",
       "    <tr>\n",
       "      <th>3</th>\n",
       "      <td>403.000</td>\n",
       "      <td>0.0</td>\n",
       "    </tr>\n",
       "    <tr>\n",
       "      <th>4</th>\n",
       "      <td>404.000</td>\n",
       "      <td>0.0</td>\n",
       "    </tr>\n",
       "    <tr>\n",
       "      <th>...</th>\n",
       "      <td>...</td>\n",
       "      <td>...</td>\n",
       "    </tr>\n",
       "    <tr>\n",
       "      <th>541</th>\n",
       "      <td>2453.000</td>\n",
       "      <td>0.0</td>\n",
       "    </tr>\n",
       "    <tr>\n",
       "      <th>542</th>\n",
       "      <td>2454.000</td>\n",
       "      <td>0.0</td>\n",
       "    </tr>\n",
       "    <tr>\n",
       "      <th>543</th>\n",
       "      <td>2455.000</td>\n",
       "      <td>0.0</td>\n",
       "    </tr>\n",
       "    <tr>\n",
       "      <th>544</th>\n",
       "      <td>2456.000</td>\n",
       "      <td>0.0</td>\n",
       "    </tr>\n",
       "    <tr>\n",
       "      <th>545</th>\n",
       "      <td>2457.000</td>\n",
       "      <td>0.0</td>\n",
       "    </tr>\n",
       "  </tbody>\n",
       "</table>\n",
       "<p>546 rows × 2 columns</p>\n",
       "</div>"
      ],
      "text/plain": [
       "    Wavelengths  count\n",
       "0       400.000    0.0\n",
       "1       401.000    0.0\n",
       "2       402.000    0.0\n",
       "3       403.000    0.0\n",
       "4       404.000    0.0\n",
       "..          ...    ...\n",
       "541    2453.000    0.0\n",
       "542    2454.000    0.0\n",
       "543    2455.000    0.0\n",
       "544    2456.000    0.0\n",
       "545    2457.000    0.0\n",
       "\n",
       "[546 rows x 2 columns]"
      ]
     },
     "execution_count": 3,
     "metadata": {},
     "output_type": "execute_result"
    }
   ],
   "source": [
    "w = c.compute_survived_wavelengths_best_score_single()\n",
    "c.plot_survived_df"
   ]
  },
  {
   "cell_type": "code",
   "execution_count": 6,
   "metadata": {},
   "outputs": [
    {
     "name": "stdout",
     "output_type": "stream",
     "text": [
      "['1091.000', '1420.000', '1461.000', '1643.000', '1884.000', '1886.000', '1970.000', '2094.000', '2367.000', '2449.000']\n",
      "\n",
      "Total combinations to test: 1\n",
      "\n",
      "Combination 0: ['1091.000', '1420.000', '1461.000', '1643.000', '1884.000', '1886.000', '1970.000', '2094.000', '2367.000', '2449.000']\n",
      "Number of wavelengths: 10\n",
      "Accuracy: 0.85, Recall: 0.84, Precision: 0.84, F1: 0.84 , nLV: 9, Cutoff: 0.50\n",
      "\n",
      "False & 10 & 0.85 & 0.84 & 0.84 & 0.84  & 9.00  & 0.50 \\\\ \\hline\n",
      "\n",
      "Mismatched: [('20-Jun-2023', 'Healty', 40, 94), ('28-Jun-2023', 'Healty', 40, 114), ('20-Jun-2023', 'Healty', 40, 96), ('17-May-2023', 'Unhealty', 20, 46), ('17-May-2023', 'Unhealty', 20, 66), ('19-Jul-2023', 'Unhealty', 60, 155)]\n",
      "Corresponding Stress_weight values:\n",
      " Index([20, 20, 60], dtype='int64', name='Stress_weight')\n"
     ]
    },
    {
     "data": {
      "image/png": "[encoded data removed]",
      "text/plain": [
       "<Figure size 600x600 with 1 Axes>"
      ]
     },
     "metadata": {},
     "output_type": "display_data"
    }
   ],
   "source": [
    "a, l, y_pred = c.accuracy_survived_wavelenghts(thr=None, rdm=False, all=False, model_type='PLS', wavelengths=[w], learning_curve=False, pls_plot=False, peak_detection=False, confusion_matrix_f=True)\n",
    "\n",
    "\n",
    "import numpy as np\n",
    "import pandas as pd\n",
    "\n",
    "# Step 1 & 2: Find indices where predictions differ from true values\n",
    "diff_indices = np.where(y_pred != c.y_test_2.flatten())[0]\n",
    "# print(diff_indices)\n",
    "\n",
    "# Step 3: Extract corresponding rows from c.df_test_2\n",
    "diff_rows = c.df_test_2.iloc[diff_indices]\n",
    "\n",
    "# Step 4: Filter rows where class is 'Uhealty'\n",
    "stress_rows = diff_rows[diff_rows.index.get_level_values('Class') == 'Unhealty']\n",
    "\n",
    "# Step : Extract 'Stress_weight' column\n",
    "stress_weights = stress_rows.index.get_level_values('Stress_weight')\n",
    "\n",
    "# If you want to print or return the results\n",
    "print(\"Mismatched:\", diff_rows.index.tolist())\n",
    "print(\"Corresponding Stress_weight values:\\n\", stress_weights)"
   ]
  },
  {
   "cell_type": "code",
   "execution_count": 5,
   "metadata": {},
   "outputs": [],
   "source": [
    "# for i in l:\n",
    "#     print(len(i))\n",
    "#     c.permutation_test(wavelengths=i)"
   ]
  }
 ],
 "metadata": {
  "kernelspec": {
   "display_name": "Python 3",
   "language": "python",
   "name": "python3"
  },
  "language_info": {
   "codemirror_mode": {
    "name": "ipython",
    "version": 3
   },
   "file_extension": ".py",
   "mimetype": "text/x-python",
   "name": "python",
   "nbconvert_exporter": "python",
   "pygments_lexer": "ipython3",
   "version": "3.11.11"
  }
 },
 "nbformat": 4,
 "nbformat_minor": 2
}
