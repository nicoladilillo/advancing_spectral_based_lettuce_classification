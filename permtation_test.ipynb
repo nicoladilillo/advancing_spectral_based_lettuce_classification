{
 "cells": [
  {
   "cell_type": "code",
   "execution_count": 9,
   "metadata": {},
   "outputs": [],
   "source": [
    "import os \n",
    "import seaborn as sns\n",
    "import matplotlib.pyplot as plt\n",
    "import pandas as pd\n",
    "\n",
    "PLOT_DIR = os.path.join(os.path.abspath(os.getcwd()), 'plots/') \n",
    "sns.set_style('darkgrid')\n",
    "  \n",
    "    # print(file_name.split('/')[-2] + '/' + file_name.split('/')[-1])\n",
    "def show_histoplot(file_name, model):\n",
    "    path = os.path.join(os.path.abspath(os.getcwd()), file_name) \n",
    "    # data = []\n",
    "    # with open(path, 'r') as f:\n",
    "    #     accuracy = float(f.readline().strip().split(','))\n",
    "    #     for line in f:\n",
    "    #         data.append(float(line.strip()))\n",
    "            \n",
    "    # Read the CSV file with a comma as the separator\n",
    "    df = pd.read_csv(path, sep=',')\n",
    "    # take first row as correct accuracy and remove it\n",
    "    best_model = df.iloc[0] \n",
    "    df = df.drop(0)\n",
    "    \n",
    "    # Iterate over all columns and plot the histogram            \n",
    "    \n",
    "    metrics_p = {}\n",
    "    for column in df.columns:\n",
    "        # print(column)\n",
    "        data = df[column]\n",
    "        # print(data)\n",
    "        # # Count how many Nan values are in the column\n",
    "        # nan_count = data.isna().sum()\n",
    "        # print(f'Column {column} has {nan_count} NaN values')\n",
    "        # # Remove the NaN values\n",
    "        # data = data.dropna()\n",
    "        metric = best_model[column]\n",
    "        \n",
    "        # plt.figure(figsize=(12, 8))\n",
    "        # sns.set_context(\"paper\", font_scale=2)  # Adjust font scale for better readability\n",
    "        # sns.set_style(\"whitegrid\")       \n",
    "\n",
    "        # sns.histplot(data, binwidth=0.01, kde=True, linewidth=3)\n",
    "        # if column == 'Q2':\n",
    "        #     plt.xlim(-0.25, 0.75)\n",
    "        # else:\n",
    "        #     plt.xlim(0, 1)\n",
    "        # plt.xlabel(f'{column} score')\n",
    "        \n",
    "        # # Write the line and the value of the accuracy\n",
    "        # plt.axvline(metric, color='r', linestyle='dashed', linewidth=3)\n",
    "        # plt.text(metric, 0.9 * plt.ylim()[1], f' {metric:.2f}', color='r')\n",
    "        \n",
    "        # Save the plot\n",
    "        name = file_name.split('/')[-2] + '/' + file_name.split('/')[-1]\n",
    "        path_plot = os.path.join(PLOT_DIR, name.split('.')[0] + '/')\n",
    "        if not os.path.exists(path_plot):\n",
    "            os.makedirs(path_plot)\n",
    "            \n",
    "        # # Add labels and title\n",
    "        # plt.xlabel(f'{column} Score',fontsize=26)\n",
    "        # plt.ylabel(\"Occurrences\",fontsize=26)\n",
    "        # plt.rc('xtick',labelsize=24)\n",
    "        # plt.rc('ytick',labelsize=24)\n",
    "        # # plt.grid(False)\n",
    "        # plt.title(\"p-value\", fontsize=26)\n",
    "        \n",
    "        # plt.savefig(path_plot + column + '.png')\n",
    "        # plt.savefig(path_plot + column + '.pdf')\n",
    "        \n",
    "        # plt.title(f'{column} Permutation Test')\n",
    "        # plt.savefig(path_plot + column + 'titled_.png')\n",
    "        # plt.savefig(path_plot + column + 'titled_.pdf')\n",
    "        # # plt.show()\n",
    "        # plt.close()\n",
    "        \n",
    "        # calculate p-value\n",
    "        p_sum = sum([1 for x in data if x >= metric])\n",
    "        p = p_sum / len(data)\n",
    "        metrics_p[column] = p\n",
    "        \n",
    "    # Print following format\n",
    "    # For LATEX table Accuracy,Recall,Precision,F1,ROC,Q2\n",
    "    print(f'{model} & {metrics_p[\"Accuracy\"]:.2f} & {metrics_p[\"Recall\"]:.2f} & {metrics_p[\"Precision\"]:.2f} & {metrics_p[\"F1\"]:.2f} \\\\\\\\ \\hline') \n",
    "    "
   ]
  },
  {
   "cell_type": "code",
   "execution_count": 11,
   "metadata": {},
   "outputs": [
    {
     "name": "stdout",
     "output_type": "stream",
     "text": [
      "PLS & 0.00 & 0.00 & 0.00 & 0.00 \\\\ \\hline\n",
      "CARS & 0.00 & 0.00 & 0.00 & 0.00 \\\\ \\hline\n",
      "BOSS & 0.00 & 0.00 & 0.00 & 0.00 \\\\ \\hline\n",
      "GA-iPLS & 0.00 & 0.00 & 0.00 & 0.00 \\\\ \\hline\n",
      "GA-iPLS+CARS & 0.00 & 0.00 & 0.00 & 0.00 \\\\ \\hline\n",
      "GA-iPLS+BOSS & 0.00 & 0.00 & 0.00 & 0.00 \\\\ \\hline\n"
     ]
    }
   ],
   "source": [
    "show_histoplot('10_SG_MSC/CARS/permutation_test_2101.csv', 'PLS')\n",
    "show_histoplot('10_SG_MSC/CARS/permutation_test_16.csv', 'CARS')\n",
    "show_histoplot('10_SG_MSC/BOSS/permutation_test_32.csv', 'BOSS')\n",
    "show_histoplot('10_SG_MSC/GA-iPLS/permutation_test_546.csv', 'GA-iPLS')\n",
    "show_histoplot('10_SG_MSC/GA-iPLS_CARS/permutation_test_13.csv', 'GA-iPLS+CARS')\n",
    "show_histoplot('10_SG_MSC/GA-iPLS_BOSS/permutation_test_10.csv', 'GA-iPLS+BOSS')"
   ]
  },
  {
   "cell_type": "code",
   "execution_count": 13,
   "metadata": {},
   "outputs": [
    {
     "name": "stdout",
     "output_type": "stream",
     "text": [
      "PLS & 0.03 & 0.03 & 0.03 & 0.03 \\\\ \\hline\n",
      "CARS & 0.00 & 0.00 & 0.00 & 0.00 \\\\ \\hline\n",
      "BOSS & 0.00 & 0.00 & 0.00 & 0.00 \\\\ \\hline\n",
      "GA-iPLS & 0.00 & 0.00 & 0.00 & 0.00 \\\\ \\hline\n",
      "GA-iPLS+BOSS & 0.00 & 0.00 & 0.00 & 0.00 \\\\ \\hline\n"
     ]
    }
   ],
   "source": [
    "show_histoplot('10_SG_SVN/CARS/permutation_test_2101.csv', 'PLS')\n",
    "show_histoplot('10_SG_SVN/CARS/permutation_test_13.csv', 'CARS')\n",
    "show_histoplot('10_SG_SVN/BOSS/permutation_test_46.csv', 'BOSS')\n",
    "show_histoplot('10_SG_SVN/GA-iPLS/permutation_test_819.csv', 'GA-iPLS')\n",
    "# show_histoplot('10_SG_SVN/GA-iPLS_CARS/permutation_test_13.csv', 'GA-iPLS+CARS')\n",
    "show_histoplot('10_SG_SVN/GA-iPLS_BOSS/permutation_test_89.csv', 'GA-iPLS+BOSS')"
   ]
  }
 ],
 "metadata": {
  "kernelspec": {
   "display_name": "Python 3",
   "language": "python",
   "name": "python3"
  },
  "language_info": {
   "codemirror_mode": {
    "name": "ipython",
    "version": 3
   },
   "file_extension": ".py",
   "mimetype": "text/x-python",
   "name": "python",
   "nbconvert_exporter": "python",
   "pygments_lexer": "ipython3",
   "version": "3.11.11"
  }
 },
 "nbformat": 4,
 "nbformat_minor": 2
}
