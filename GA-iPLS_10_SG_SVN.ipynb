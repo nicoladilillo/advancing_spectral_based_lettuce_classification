{
 "cells": [
  {
   "cell_type": "code",
   "execution_count": 1,
   "metadata": {},
   "outputs": [],
   "source": [
    "import sys\n",
    "sys.path.insert(0, \"/Users/nicoladilillo/Projects_mac/lettuce_spectral_signature\")\n",
    "from cars_model import CARS\n",
    "import os"
   ]
  },
  {
   "cell_type": "code",
   "execution_count": 2,
   "metadata": {},
   "outputs": [
    {
     "name": "stdout",
     "output_type": "stream",
     "text": [
      "Training samples: 157\n",
      "\tClass Healty: 82 samples\n",
      "\tClass Unhealty: 75 samples\n",
      "Testing samples: 39\n",
      "\tClass Healty: 20 samples\n",
      "\tClass Unhealty: 19 samples\n"
     ]
    }
   ],
   "source": [
    "# extract the name of the file\n",
    "col_group = ['Date', 'Class', 'Stress_weight', 'Position']\n",
    "file_name = '10_SG_SVN/GA-iPLS'\n",
    "path = os.path.join(os.path.abspath(os.getcwd()), file_name)\n",
    "c = CARS(path, MAX_COMPONENTS=10, col_group=col_group, calibration=False, cutoff=0.5)"
   ]
  },
  {
   "cell_type": "code",
   "execution_count": 3,
   "metadata": {},
   "outputs": [
    {
     "name": "stdout",
     "output_type": "stream",
     "text": [
      "Best accuracy for run 83 and iteration 33\n",
      "Best accuracy = 0.9230769230769232\n"
     ]
    },
    {
     "data": {
      "application/vnd.microsoft.datawrangler.viewer.v0+json": {
       "columns": [
        {
         "name": "index",
         "rawType": "int64",
         "type": "integer"
        },
        {
         "name": "Wavelengths",
         "rawType": "object",
         "type": "string"
        },
        {
         "name": "count",
         "rawType": "float64",
         "type": "float"
        }
       ],
       "ref": "fa6f8026-7956-4300-ba21-d2a3e90fbef8",
       "rows": [
        [
         "0",
         "400.000",
         "0.0"
        ],
        [
         "1",
         "401.000",
         "0.0"
        ],
        [
         "2",
         "402.000",
         "0.0"
        ],
        [
         "3",
         "403.000",
         "0.0"
        ],
        [
         "4",
         "404.000",
         "0.0"
        ],
        [
         "5",
         "405.000",
         "0.0"
        ],
        [
         "6",
         "406.000",
         "0.0"
        ],
        [
         "7",
         "407.000",
         "0.0"
        ],
        [
         "8",
         "408.000",
         "0.0"
        ],
        [
         "9",
         "409.000",
         "0.0"
        ],
        [
         "10",
         "410.000",
         "0.0"
        ],
        [
         "11",
         "411.000",
         "0.0"
        ],
        [
         "12",
         "412.000",
         "0.0"
        ],
        [
         "13",
         "413.000",
         "0.0"
        ],
        [
         "14",
         "414.000",
         "0.0"
        ],
        [
         "15",
         "415.000",
         "0.0"
        ],
        [
         "16",
         "416.000",
         "0.0"
        ],
        [
         "17",
         "417.000",
         "0.0"
        ],
        [
         "18",
         "418.000",
         "0.0"
        ],
        [
         "19",
         "419.000",
         "0.0"
        ],
        [
         "20",
         "420.000",
         "0.0"
        ],
        [
         "21",
         "421.000",
         "1.0"
        ],
        [
         "22",
         "422.000",
         "1.0"
        ],
        [
         "23",
         "423.000",
         "1.0"
        ],
        [
         "24",
         "424.000",
         "1.0"
        ],
        [
         "25",
         "425.000",
         "1.0"
        ],
        [
         "26",
         "426.000",
         "1.0"
        ],
        [
         "27",
         "427.000",
         "1.0"
        ],
        [
         "28",
         "428.000",
         "1.0"
        ],
        [
         "29",
         "429.000",
         "1.0"
        ],
        [
         "30",
         "430.000",
         "1.0"
        ],
        [
         "31",
         "431.000",
         "1.0"
        ],
        [
         "32",
         "432.000",
         "1.0"
        ],
        [
         "33",
         "433.000",
         "1.0"
        ],
        [
         "34",
         "434.000",
         "1.0"
        ],
        [
         "35",
         "435.000",
         "1.0"
        ],
        [
         "36",
         "436.000",
         "1.0"
        ],
        [
         "37",
         "437.000",
         "1.0"
        ],
        [
         "38",
         "438.000",
         "1.0"
        ],
        [
         "39",
         "439.000",
         "1.0"
        ],
        [
         "40",
         "440.000",
         "1.0"
        ],
        [
         "41",
         "441.000",
         "1.0"
        ],
        [
         "42",
         "442.000",
         "0.0"
        ],
        [
         "43",
         "443.000",
         "0.0"
        ],
        [
         "44",
         "444.000",
         "0.0"
        ],
        [
         "45",
         "445.000",
         "0.0"
        ],
        [
         "46",
         "446.000",
         "0.0"
        ],
        [
         "47",
         "447.000",
         "0.0"
        ],
        [
         "48",
         "448.000",
         "0.0"
        ],
        [
         "49",
         "449.000",
         "0.0"
        ]
       ],
       "shape": {
        "columns": 2,
        "rows": 2101
       }
      },
      "text/html": [
       "<div>\n",
       "<style scoped>\n",
       "    .dataframe tbody tr th:only-of-type {\n",
       "        vertical-align: middle;\n",
       "    }\n",
       "\n",
       "    .dataframe tbody tr th {\n",
       "        vertical-align: top;\n",
       "    }\n",
       "\n",
       "    .dataframe thead th {\n",
       "        text-align: right;\n",
       "    }\n",
       "</style>\n",
       "<table border=\"1\" class=\"dataframe\">\n",
       "  <thead>\n",
       "    <tr style=\"text-align: right;\">\n",
       "      <th></th>\n",
       "      <th>Wavelengths</th>\n",
       "      <th>count</th>\n",
       "    </tr>\n",
       "  </thead>\n",
       "  <tbody>\n",
       "    <tr>\n",
       "      <th>0</th>\n",
       "      <td>400.000</td>\n",
       "      <td>0.0</td>\n",
       "    </tr>\n",
       "    <tr>\n",
       "      <th>1</th>\n",
       "      <td>401.000</td>\n",
       "      <td>0.0</td>\n",
       "    </tr>\n",
       "    <tr>\n",
       "      <th>2</th>\n",
       "      <td>402.000</td>\n",
       "      <td>0.0</td>\n",
       "    </tr>\n",
       "    <tr>\n",
       "      <th>3</th>\n",
       "      <td>403.000</td>\n",
       "      <td>0.0</td>\n",
       "    </tr>\n",
       "    <tr>\n",
       "      <th>4</th>\n",
       "      <td>404.000</td>\n",
       "      <td>0.0</td>\n",
       "    </tr>\n",
       "    <tr>\n",
       "      <th>...</th>\n",
       "      <td>...</td>\n",
       "      <td>...</td>\n",
       "    </tr>\n",
       "    <tr>\n",
       "      <th>2096</th>\n",
       "      <td>2496.000</td>\n",
       "      <td>0.0</td>\n",
       "    </tr>\n",
       "    <tr>\n",
       "      <th>2097</th>\n",
       "      <td>2497.000</td>\n",
       "      <td>0.0</td>\n",
       "    </tr>\n",
       "    <tr>\n",
       "      <th>2098</th>\n",
       "      <td>2498.000</td>\n",
       "      <td>0.0</td>\n",
       "    </tr>\n",
       "    <tr>\n",
       "      <th>2099</th>\n",
       "      <td>2499.000</td>\n",
       "      <td>0.0</td>\n",
       "    </tr>\n",
       "    <tr>\n",
       "      <th>2100</th>\n",
       "      <td>2500.000</td>\n",
       "      <td>0.0</td>\n",
       "    </tr>\n",
       "  </tbody>\n",
       "</table>\n",
       "<p>2101 rows × 2 columns</p>\n",
       "</div>"
      ],
      "text/plain": [
       "     Wavelengths  count\n",
       "0        400.000    0.0\n",
       "1        401.000    0.0\n",
       "2        402.000    0.0\n",
       "3        403.000    0.0\n",
       "4        404.000    0.0\n",
       "...          ...    ...\n",
       "2096    2496.000    0.0\n",
       "2097    2497.000    0.0\n",
       "2098    2498.000    0.0\n",
       "2099    2499.000    0.0\n",
       "2100    2500.000    0.0\n",
       "\n",
       "[2101 rows x 2 columns]"
      ]
     },
     "execution_count": 3,
     "metadata": {},
     "output_type": "execute_result"
    }
   ],
   "source": [
    "w = c.compute_survived_wavelengths_best_score_single()\n",
    "c.plot_survived_df"
   ]
  },
  {
   "cell_type": "code",
   "execution_count": 5,
   "metadata": {},
   "outputs": [
    {
     "name": "stdout",
     "output_type": "stream",
     "text": [
      "['1000.000', '1001.000', '1002.000', '1003.000', '1004.000', '1005.000', '1006.000', '1007.000', '1008.000', '1030.000', '1031.000', '1032.000', '1033.000', '1034.000', '1035.000', '1036.000', '1037.000', '1038.000', '1039.000', '1040.000', '1041.000', '1042.000', '1043.000', '1044.000', '1045.000', '1046.000', '1047.000', '1048.000', '1049.000', '1050.000', '1051.000', '1052.000', '1053.000', '1054.000', '1055.000', '1056.000', '1057.000', '1058.000', '1059.000', '1060.000', '1061.000', '1062.000', '1063.000', '1064.000', '1065.000', '1066.000', '1067.000', '1068.000', '1069.000', '1070.000', '1071.000', '1072.000', '1073.000', '1074.000', '1075.000', '1076.000', '1077.000', '1078.000', '1079.000', '1080.000', '1081.000', '1082.000', '1083.000', '1084.000', '1085.000', '1086.000', '1087.000', '1088.000', '1089.000', '1090.000', '1091.000', '1092.000', '1093.000', '1094.000', '1095.000', '1096.000', '1097.000', '1098.000', '1099.000', '1100.000', '1101.000', '1102.000', '1103.000', '1104.000', '1105.000', '1106.000', '1107.000', '1108.000', '1109.000', '1110.000', '1111.000', '1112.000', '1113.000', '1156.000', '1157.000', '1158.000', '1159.000', '1160.000', '1161.000', '1162.000', '1163.000', '1164.000', '1165.000', '1166.000', '1167.000', '1168.000', '1169.000', '1170.000', '1171.000', '1172.000', '1173.000', '1174.000', '1175.000', '1176.000', '1177.000', '1178.000', '1179.000', '1180.000', '1181.000', '1182.000', '1183.000', '1184.000', '1185.000', '1186.000', '1187.000', '1188.000', '1189.000', '1190.000', '1191.000', '1192.000', '1193.000', '1194.000', '1195.000', '1196.000', '1197.000', '1219.000', '1220.000', '1221.000', '1222.000', '1223.000', '1224.000', '1225.000', '1226.000', '1227.000', '1228.000', '1229.000', '1230.000', '1231.000', '1232.000', '1233.000', '1234.000', '1235.000', '1236.000', '1237.000', '1238.000', '1239.000', '1240.000', '1241.000', '1242.000', '1243.000', '1244.000', '1245.000', '1246.000', '1247.000', '1248.000', '1249.000', '1250.000', '1251.000', '1252.000', '1253.000', '1254.000', '1255.000', '1256.000', '1257.000', '1258.000', '1259.000', '1260.000', '1282.000', '1283.000', '1284.000', '1285.000', '1286.000', '1287.000', '1288.000', '1289.000', '1290.000', '1291.000', '1292.000', '1293.000', '1294.000', '1295.000', '1296.000', '1297.000', '1298.000', '1299.000', '1300.000', '1301.000', '1302.000', '1303.000', '1304.000', '1305.000', '1306.000', '1307.000', '1308.000', '1309.000', '1310.000', '1311.000', '1312.000', '1313.000', '1314.000', '1315.000', '1316.000', '1317.000', '1318.000', '1319.000', '1320.000', '1321.000', '1322.000', '1323.000', '1387.000', '1388.000', '1389.000', '1390.000', '1391.000', '1392.000', '1393.000', '1394.000', '1395.000', '1396.000', '1397.000', '1398.000', '1399.000', '1400.000', '1401.000', '1402.000', '1403.000', '1404.000', '1405.000', '1406.000', '1407.000', '1408.000', '1409.000', '1410.000', '1411.000', '1412.000', '1413.000', '1414.000', '1415.000', '1416.000', '1417.000', '1418.000', '1419.000', '1420.000', '1421.000', '1422.000', '1423.000', '1424.000', '1425.000', '1426.000', '1427.000', '1428.000', '1450.000', '1451.000', '1452.000', '1453.000', '1454.000', '1455.000', '1456.000', '1457.000', '1458.000', '1459.000', '1460.000', '1461.000', '1462.000', '1463.000', '1464.000', '1465.000', '1466.000', '1467.000', '1468.000', '1469.000', '1470.000', '1471.000', '1472.000', '1473.000', '1474.000', '1475.000', '1476.000', '1477.000', '1478.000', '1479.000', '1480.000', '1481.000', '1482.000', '1483.000', '1484.000', '1485.000', '1486.000', '1487.000', '1488.000', '1489.000', '1490.000', '1491.000', '1492.000', '1493.000', '1494.000', '1495.000', '1496.000', '1497.000', '1498.000', '1499.000', '1500.000', '1501.000', '1502.000', '1503.000', '1504.000', '1505.000', '1506.000', '1507.000', '1508.000', '1509.000', '1510.000', '1511.000', '1512.000', '1513.000', '1514.000', '1515.000', '1516.000', '1517.000', '1518.000', '1519.000', '1520.000', '1521.000', '1522.000', '1523.000', '1524.000', '1525.000', '1526.000', '1527.000', '1528.000', '1529.000', '1530.000', '1531.000', '1532.000', '1533.000', '1534.000', '1535.000', '1536.000', '1537.000', '1538.000', '1539.000', '1540.000', '1541.000', '1542.000', '1543.000', '1544.000', '1545.000', '1546.000', '1547.000', '1548.000', '1549.000', '1550.000', '1551.000', '1552.000', '1553.000', '1554.000', '1555.000', '1556.000', '1557.000', '1558.000', '1559.000', '1560.000', '1561.000', '1562.000', '1563.000', '1564.000', '1565.000', '1566.000', '1567.000', '1568.000', '1569.000', '1570.000', '1571.000', '1572.000', '1573.000', '1574.000', '1575.000', '1576.000', '1577.000', '1578.000', '1579.000', '1580.000', '1581.000', '1582.000', '1583.000', '1584.000', '1585.000', '1586.000', '1587.000', '1588.000', '1589.000', '1590.000', '1591.000', '1592.000', '1593.000', '1594.000', '1595.000', '1596.000', '1723.000', '1724.000', '1725.000', '1726.000', '1727.000', '1728.000', '1729.000', '1730.000', '1731.000', '1732.000', '1733.000', '1734.000', '1735.000', '1736.000', '1737.000', '1738.000', '1739.000', '1740.000', '1741.000', '1742.000', '1743.000', '1786.000', '1787.000', '1788.000', '1789.000', '1790.000', '1791.000', '1792.000', '1793.000', '1794.000', '1795.000', '1796.000', '1797.000', '1798.000', '1799.000', '1800.000', '1801.000', '1802.000', '1803.000', '1804.000', '1805.000', '1806.000', '1891.000', '1892.000', '1893.000', '1894.000', '1895.000', '1896.000', '1897.000', '1898.000', '1899.000', '1900.000', '1901.000', '1902.000', '1903.000', '1904.000', '1905.000', '1906.000', '1907.000', '1908.000', '1909.000', '1910.000', '1911.000', '1975.000', '1976.000', '1977.000', '1978.000', '1979.000', '1980.000', '1981.000', '1982.000', '1983.000', '1984.000', '1985.000', '1986.000', '1987.000', '1988.000', '1989.000', '1990.000', '1991.000', '1992.000', '1993.000', '1994.000', '1995.000', '1996.000', '1997.000', '1998.000', '1999.000', '2000.000', '2001.000', '2002.000', '2003.000', '2004.000', '2005.000', '2006.000', '2007.000', '2008.000', '2009.000', '2010.000', '2011.000', '2012.000', '2013.000', '2014.000', '2015.000', '2016.000', '2059.000', '2060.000', '2061.000', '2062.000', '2063.000', '2064.000', '2065.000', '2066.000', '2067.000', '2068.000', '2069.000', '2070.000', '2071.000', '2072.000', '2073.000', '2074.000', '2075.000', '2076.000', '2077.000', '2078.000', '2079.000', '2101.000', '2102.000', '2103.000', '2104.000', '2105.000', '2106.000', '2107.000', '2108.000', '2109.000', '2110.000', '2111.000', '2112.000', '2113.000', '2114.000', '2115.000', '2116.000', '2117.000', '2118.000', '2119.000', '2120.000', '2121.000', '2164.000', '2165.000', '2166.000', '2167.000', '2168.000', '2169.000', '2170.000', '2171.000', '2172.000', '2173.000', '2174.000', '2175.000', '2176.000', '2177.000', '2178.000', '2179.000', '2180.000', '2181.000', '2182.000', '2183.000', '2184.000', '2185.000', '2186.000', '2187.000', '2188.000', '2189.000', '2190.000', '2191.000', '2192.000', '2193.000', '2194.000', '2195.000', '2196.000', '2197.000', '2198.000', '2199.000', '2200.000', '2201.000', '2202.000', '2203.000', '2204.000', '2205.000', '2206.000', '2207.000', '2208.000', '2209.000', '2210.000', '2211.000', '2212.000', '2213.000', '2214.000', '2215.000', '2216.000', '2217.000', '2218.000', '2219.000', '2220.000', '2221.000', '2222.000', '2223.000', '2224.000', '2225.000', '2226.000', '2332.000', '2333.000', '2334.000', '2335.000', '2336.000', '2337.000', '2338.000', '2339.000', '2340.000', '2341.000', '2342.000', '2343.000', '2344.000', '2345.000', '2346.000', '2347.000', '2348.000', '2349.000', '2350.000', '2351.000', '2352.000', '2374.000', '2375.000', '2376.000', '2377.000', '2378.000', '2379.000', '2380.000', '2381.000', '2382.000', '2383.000', '2384.000', '2385.000', '2386.000', '2387.000', '2388.000', '2389.000', '2390.000', '2391.000', '2392.000', '2393.000', '2394.000', '421.000', '422.000', '423.000', '424.000', '425.000', '426.000', '427.000', '428.000', '429.000', '430.000', '431.000', '432.000', '433.000', '434.000', '435.000', '436.000', '437.000', '438.000', '439.000', '440.000', '441.000', '526.000', '527.000', '528.000', '529.000', '530.000', '531.000', '532.000', '533.000', '534.000', '535.000', '536.000', '537.000', '538.000', '539.000', '540.000', '541.000', '542.000', '543.000', '544.000', '545.000', '546.000', '568.000', '569.000', '570.000', '571.000', '572.000', '573.000', '574.000', '575.000', '576.000', '577.000', '578.000', '579.000', '580.000', '581.000', '582.000', '583.000', '584.000', '585.000', '586.000', '587.000', '588.000', '652.000', '653.000', '654.000', '655.000', '656.000', '657.000', '658.000', '659.000', '660.000', '661.000', '662.000', '663.000', '664.000', '665.000', '666.000', '667.000', '668.000', '669.000', '670.000', '671.000', '672.000', '715.000', '716.000', '717.000', '718.000', '719.000', '720.000', '721.000', '722.000', '723.000', '724.000', '725.000', '726.000', '727.000', '728.000', '729.000', '730.000', '731.000', '732.000', '733.000', '734.000', '735.000', '862.000', '863.000', '864.000', '865.000', '866.000', '867.000', '868.000', '869.000', '870.000', '871.000', '872.000', '873.000', '874.000', '875.000', '876.000', '877.000', '878.000', '879.000', '880.000', '881.000', '882.000', '925.000', '926.000', '927.000', '928.000', '929.000', '930.000', '931.000', '932.000', '933.000', '934.000', '935.000', '936.000', '937.000', '938.000', '939.000', '940.000', '941.000', '942.000', '943.000', '944.000', '945.000', '988.000', '989.000', '990.000', '991.000', '992.000', '993.000', '994.000', '995.000', '996.000', '997.000', '998.000', '999.000']\n",
      "\n",
      "Total combinations to test: 1\n",
      "\n",
      "Combination 0: ['1000.000', '1001.000', '1002.000', '1003.000', '1004.000', '1005.000', '1006.000', '1007.000', '1008.000', '1030.000', '1031.000', '1032.000', '1033.000', '1034.000', '1035.000', '1036.000', '1037.000', '1038.000', '1039.000', '1040.000', '1041.000', '1042.000', '1043.000', '1044.000', '1045.000', '1046.000', '1047.000', '1048.000', '1049.000', '1050.000', '1051.000', '1052.000', '1053.000', '1054.000', '1055.000', '1056.000', '1057.000', '1058.000', '1059.000', '1060.000', '1061.000', '1062.000', '1063.000', '1064.000', '1065.000', '1066.000', '1067.000', '1068.000', '1069.000', '1070.000', '1071.000', '1072.000', '1073.000', '1074.000', '1075.000', '1076.000', '1077.000', '1078.000', '1079.000', '1080.000', '1081.000', '1082.000', '1083.000', '1084.000', '1085.000', '1086.000', '1087.000', '1088.000', '1089.000', '1090.000', '1091.000', '1092.000', '1093.000', '1094.000', '1095.000', '1096.000', '1097.000', '1098.000', '1099.000', '1100.000', '1101.000', '1102.000', '1103.000', '1104.000', '1105.000', '1106.000', '1107.000', '1108.000', '1109.000', '1110.000', '1111.000', '1112.000', '1113.000', '1156.000', '1157.000', '1158.000', '1159.000', '1160.000', '1161.000', '1162.000', '1163.000', '1164.000', '1165.000', '1166.000', '1167.000', '1168.000', '1169.000', '1170.000', '1171.000', '1172.000', '1173.000', '1174.000', '1175.000', '1176.000', '1177.000', '1178.000', '1179.000', '1180.000', '1181.000', '1182.000', '1183.000', '1184.000', '1185.000', '1186.000', '1187.000', '1188.000', '1189.000', '1190.000', '1191.000', '1192.000', '1193.000', '1194.000', '1195.000', '1196.000', '1197.000', '1219.000', '1220.000', '1221.000', '1222.000', '1223.000', '1224.000', '1225.000', '1226.000', '1227.000', '1228.000', '1229.000', '1230.000', '1231.000', '1232.000', '1233.000', '1234.000', '1235.000', '1236.000', '1237.000', '1238.000', '1239.000', '1240.000', '1241.000', '1242.000', '1243.000', '1244.000', '1245.000', '1246.000', '1247.000', '1248.000', '1249.000', '1250.000', '1251.000', '1252.000', '1253.000', '1254.000', '1255.000', '1256.000', '1257.000', '1258.000', '1259.000', '1260.000', '1282.000', '1283.000', '1284.000', '1285.000', '1286.000', '1287.000', '1288.000', '1289.000', '1290.000', '1291.000', '1292.000', '1293.000', '1294.000', '1295.000', '1296.000', '1297.000', '1298.000', '1299.000', '1300.000', '1301.000', '1302.000', '1303.000', '1304.000', '1305.000', '1306.000', '1307.000', '1308.000', '1309.000', '1310.000', '1311.000', '1312.000', '1313.000', '1314.000', '1315.000', '1316.000', '1317.000', '1318.000', '1319.000', '1320.000', '1321.000', '1322.000', '1323.000', '1387.000', '1388.000', '1389.000', '1390.000', '1391.000', '1392.000', '1393.000', '1394.000', '1395.000', '1396.000', '1397.000', '1398.000', '1399.000', '1400.000', '1401.000', '1402.000', '1403.000', '1404.000', '1405.000', '1406.000', '1407.000', '1408.000', '1409.000', '1410.000', '1411.000', '1412.000', '1413.000', '1414.000', '1415.000', '1416.000', '1417.000', '1418.000', '1419.000', '1420.000', '1421.000', '1422.000', '1423.000', '1424.000', '1425.000', '1426.000', '1427.000', '1428.000', '1450.000', '1451.000', '1452.000', '1453.000', '1454.000', '1455.000', '1456.000', '1457.000', '1458.000', '1459.000', '1460.000', '1461.000', '1462.000', '1463.000', '1464.000', '1465.000', '1466.000', '1467.000', '1468.000', '1469.000', '1470.000', '1471.000', '1472.000', '1473.000', '1474.000', '1475.000', '1476.000', '1477.000', '1478.000', '1479.000', '1480.000', '1481.000', '1482.000', '1483.000', '1484.000', '1485.000', '1486.000', '1487.000', '1488.000', '1489.000', '1490.000', '1491.000', '1492.000', '1493.000', '1494.000', '1495.000', '1496.000', '1497.000', '1498.000', '1499.000', '1500.000', '1501.000', '1502.000', '1503.000', '1504.000', '1505.000', '1506.000', '1507.000', '1508.000', '1509.000', '1510.000', '1511.000', '1512.000', '1513.000', '1514.000', '1515.000', '1516.000', '1517.000', '1518.000', '1519.000', '1520.000', '1521.000', '1522.000', '1523.000', '1524.000', '1525.000', '1526.000', '1527.000', '1528.000', '1529.000', '1530.000', '1531.000', '1532.000', '1533.000', '1534.000', '1535.000', '1536.000', '1537.000', '1538.000', '1539.000', '1540.000', '1541.000', '1542.000', '1543.000', '1544.000', '1545.000', '1546.000', '1547.000', '1548.000', '1549.000', '1550.000', '1551.000', '1552.000', '1553.000', '1554.000', '1555.000', '1556.000', '1557.000', '1558.000', '1559.000', '1560.000', '1561.000', '1562.000', '1563.000', '1564.000', '1565.000', '1566.000', '1567.000', '1568.000', '1569.000', '1570.000', '1571.000', '1572.000', '1573.000', '1574.000', '1575.000', '1576.000', '1577.000', '1578.000', '1579.000', '1580.000', '1581.000', '1582.000', '1583.000', '1584.000', '1585.000', '1586.000', '1587.000', '1588.000', '1589.000', '1590.000', '1591.000', '1592.000', '1593.000', '1594.000', '1595.000', '1596.000', '1723.000', '1724.000', '1725.000', '1726.000', '1727.000', '1728.000', '1729.000', '1730.000', '1731.000', '1732.000', '1733.000', '1734.000', '1735.000', '1736.000', '1737.000', '1738.000', '1739.000', '1740.000', '1741.000', '1742.000', '1743.000', '1786.000', '1787.000', '1788.000', '1789.000', '1790.000', '1791.000', '1792.000', '1793.000', '1794.000', '1795.000', '1796.000', '1797.000', '1798.000', '1799.000', '1800.000', '1801.000', '1802.000', '1803.000', '1804.000', '1805.000', '1806.000', '1891.000', '1892.000', '1893.000', '1894.000', '1895.000', '1896.000', '1897.000', '1898.000', '1899.000', '1900.000', '1901.000', '1902.000', '1903.000', '1904.000', '1905.000', '1906.000', '1907.000', '1908.000', '1909.000', '1910.000', '1911.000', '1975.000', '1976.000', '1977.000', '1978.000', '1979.000', '1980.000', '1981.000', '1982.000', '1983.000', '1984.000', '1985.000', '1986.000', '1987.000', '1988.000', '1989.000', '1990.000', '1991.000', '1992.000', '1993.000', '1994.000', '1995.000', '1996.000', '1997.000', '1998.000', '1999.000', '2000.000', '2001.000', '2002.000', '2003.000', '2004.000', '2005.000', '2006.000', '2007.000', '2008.000', '2009.000', '2010.000', '2011.000', '2012.000', '2013.000', '2014.000', '2015.000', '2016.000', '2059.000', '2060.000', '2061.000', '2062.000', '2063.000', '2064.000', '2065.000', '2066.000', '2067.000', '2068.000', '2069.000', '2070.000', '2071.000', '2072.000', '2073.000', '2074.000', '2075.000', '2076.000', '2077.000', '2078.000', '2079.000', '2101.000', '2102.000', '2103.000', '2104.000', '2105.000', '2106.000', '2107.000', '2108.000', '2109.000', '2110.000', '2111.000', '2112.000', '2113.000', '2114.000', '2115.000', '2116.000', '2117.000', '2118.000', '2119.000', '2120.000', '2121.000', '2164.000', '2165.000', '2166.000', '2167.000', '2168.000', '2169.000', '2170.000', '2171.000', '2172.000', '2173.000', '2174.000', '2175.000', '2176.000', '2177.000', '2178.000', '2179.000', '2180.000', '2181.000', '2182.000', '2183.000', '2184.000', '2185.000', '2186.000', '2187.000', '2188.000', '2189.000', '2190.000', '2191.000', '2192.000', '2193.000', '2194.000', '2195.000', '2196.000', '2197.000', '2198.000', '2199.000', '2200.000', '2201.000', '2202.000', '2203.000', '2204.000', '2205.000', '2206.000', '2207.000', '2208.000', '2209.000', '2210.000', '2211.000', '2212.000', '2213.000', '2214.000', '2215.000', '2216.000', '2217.000', '2218.000', '2219.000', '2220.000', '2221.000', '2222.000', '2223.000', '2224.000', '2225.000', '2226.000', '2332.000', '2333.000', '2334.000', '2335.000', '2336.000', '2337.000', '2338.000', '2339.000', '2340.000', '2341.000', '2342.000', '2343.000', '2344.000', '2345.000', '2346.000', '2347.000', '2348.000', '2349.000', '2350.000', '2351.000', '2352.000', '2374.000', '2375.000', '2376.000', '2377.000', '2378.000', '2379.000', '2380.000', '2381.000', '2382.000', '2383.000', '2384.000', '2385.000', '2386.000', '2387.000', '2388.000', '2389.000', '2390.000', '2391.000', '2392.000', '2393.000', '2394.000', '421.000', '422.000', '423.000', '424.000', '425.000', '426.000', '427.000', '428.000', '429.000', '430.000', '431.000', '432.000', '433.000', '434.000', '435.000', '436.000', '437.000', '438.000', '439.000', '440.000', '441.000', '526.000', '527.000', '528.000', '529.000', '530.000', '531.000', '532.000', '533.000', '534.000', '535.000', '536.000', '537.000', '538.000', '539.000', '540.000', '541.000', '542.000', '543.000', '544.000', '545.000', '546.000', '568.000', '569.000', '570.000', '571.000', '572.000', '573.000', '574.000', '575.000', '576.000', '577.000', '578.000', '579.000', '580.000', '581.000', '582.000', '583.000', '584.000', '585.000', '586.000', '587.000', '588.000', '652.000', '653.000', '654.000', '655.000', '656.000', '657.000', '658.000', '659.000', '660.000', '661.000', '662.000', '663.000', '664.000', '665.000', '666.000', '667.000', '668.000', '669.000', '670.000', '671.000', '672.000', '715.000', '716.000', '717.000', '718.000', '719.000', '720.000', '721.000', '722.000', '723.000', '724.000', '725.000', '726.000', '727.000', '728.000', '729.000', '730.000', '731.000', '732.000', '733.000', '734.000', '735.000', '862.000', '863.000', '864.000', '865.000', '866.000', '867.000', '868.000', '869.000', '870.000', '871.000', '872.000', '873.000', '874.000', '875.000', '876.000', '877.000', '878.000', '879.000', '880.000', '881.000', '882.000', '925.000', '926.000', '927.000', '928.000', '929.000', '930.000', '931.000', '932.000', '933.000', '934.000', '935.000', '936.000', '937.000', '938.000', '939.000', '940.000', '941.000', '942.000', '943.000', '944.000', '945.000', '988.000', '989.000', '990.000', '991.000', '992.000', '993.000', '994.000', '995.000', '996.000', '997.000', '998.000', '999.000']\n",
      "Number of wavelengths: 819\n",
      "Accuracy: 0.92, Recall: 0.89, Precision: 0.94, F1: 0.92 , nLV: 8, Cutoff: 0.50\n",
      "\n",
      "False & 819 & 0.92 & 0.89 & 0.94 & 0.92  & 8.00  & 0.50 \\\\ \\hline\n",
      "\n"
     ]
    },
    {
     "data": {
      "image/png": "[encoded data removed]",
      "text/plain": [
       "<Figure size 600x600 with 1 Axes>"
      ]
     },
     "metadata": {},
     "output_type": "display_data"
    }
   ],
   "source": [
    "a, l, y_pred = c.accuracy_survived_wavelenghts(thr=None, rdm=False, all=False, model_type='PLS', wavelengths=[w], learning_curve=False, pls_plot=False, peak_detection=False, confusion_matrix_f=True)"
   ]
  },
  {
   "cell_type": "code",
   "execution_count": 6,
   "metadata": {},
   "outputs": [],
   "source": [
    "# for i in l:\n",
    "#     print(len(i))\n",
    "#     c.permutation_test(wavelengths=i)"
   ]
  },
  {
   "cell_type": "code",
   "execution_count": 7,
   "metadata": {},
   "outputs": [
    {
     "name": "stdout",
     "output_type": "stream",
     "text": [
      "Mismatched: [('20-Jun-2023', 'Healty', 40, 97), ('17-May-2023', 'Unhealty', 20, 46), ('17-May-2023', 'Unhealty', 20, 51)]\n",
      "Corresponding Stress_weight values:\n",
      " Index([40, 20, 20], dtype='int64', name='Stress_weight')\n"
     ]
    }
   ],
   "source": [
    "import numpy as np\n",
    "import pandas as pd\n",
    "\n",
    "# Step 1 & 2: Find indices where predictions differ from true values\n",
    "diff_indices = np.where(y_pred != c.y_test_2.flatten())[0]\n",
    "# print(diff_indices)\n",
    "\n",
    "# Step 3: Extract corresponding rows from c.df_test_2\n",
    "diff_rows = c.df_test_2.iloc[diff_indices]\n",
    "\n",
    "# Step 4: Filter rows where class is 'Uhealty'\n",
    "stress_rows = diff_rows[diff_rows.index.get_level_values('Class') == 'Unhealty']\n",
    "\n",
    "# Step : Extract 'Stress_weight' column\n",
    "stress_weights = diff_rows.index.get_level_values('Stress_weight')\n",
    "\n",
    "# If you want to print or return the results\n",
    "print(\"Mismatched:\", diff_rows.index.tolist())\n",
    "print(\"Corresponding Stress_weight values:\\n\", stress_weights)"
   ]
  }
 ],
 "metadata": {
  "kernelspec": {
   "display_name": "Python 3",
   "language": "python",
   "name": "python3"
  },
  "language_info": {
   "codemirror_mode": {
    "name": "ipython",
    "version": 3
   },
   "file_extension": ".py",
   "mimetype": "text/x-python",
   "name": "python",
   "nbconvert_exporter": "python",
   "pygments_lexer": "ipython3",
   "version": "3.11.11"
  }
 },
 "nbformat": 4,
 "nbformat_minor": 2
}
