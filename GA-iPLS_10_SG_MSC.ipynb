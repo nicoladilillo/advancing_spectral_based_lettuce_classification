{
 "cells": [
  {
   "cell_type": "code",
   "execution_count": 1,
   "metadata": {},
   "outputs": [],
   "source": [
    "import sys\n",
    "sys.path.insert(0, \"/Users/nicoladilillo/Projects_mac/lettuce_spectral_signature\")\n",
    "from cars_model import CARS\n",
    "import os"
   ]
  },
  {
   "cell_type": "code",
   "execution_count": 2,
   "metadata": {},
   "outputs": [
    {
     "name": "stdout",
     "output_type": "stream",
     "text": [
      "Training samples: 158\n",
      "\tClass Healty: 83 samples\n",
      "\tClass Unhealty: 75 samples\n",
      "Testing samples: 40\n",
      "\tClass Healty: 21 samples\n",
      "\tClass Unhealty: 19 samples\n"
     ]
    }
   ],
   "source": [
    "# extract the name of the file\n",
    "col_group = ['Date', 'Class', 'Stress_weight', 'Position']\n",
    "file_name = '10_SG_MSC/GA-iPLS'\n",
    "path = os.path.join(os.path.abspath(os.getcwd()), file_name)\n",
    "c = CARS(path, MAX_COMPONENTS=10, col_group=col_group, calibration=False, cutoff=0.5)"
   ]
  },
  {
   "cell_type": "code",
   "execution_count": 3,
   "metadata": {},
   "outputs": [
    {
     "name": "stdout",
     "output_type": "stream",
     "text": [
      "Best accuracy for run 99 and iteration 13\n",
      "Best accuracy = 0.825\n"
     ]
    },
    {
     "data": {
      "application/vnd.microsoft.datawrangler.viewer.v0+json": {
       "columns": [
        {
         "name": "index",
         "rawType": "int64",
         "type": "integer"
        },
        {
         "name": "Wavelengths",
         "rawType": "object",
         "type": "string"
        },
        {
         "name": "count",
         "rawType": "float64",
         "type": "float"
        }
       ],
       "ref": "66e46616-3aa9-496b-be61-5799d3cc4af7",
       "rows": [
        [
         "0",
         "400.000",
         "1.0"
        ],
        [
         "1",
         "401.000",
         "1.0"
        ],
        [
         "2",
         "402.000",
         "1.0"
        ],
        [
         "3",
         "403.000",
         "1.0"
        ],
        [
         "4",
         "404.000",
         "1.0"
        ],
        [
         "5",
         "405.000",
         "1.0"
        ],
        [
         "6",
         "406.000",
         "1.0"
        ],
        [
         "7",
         "407.000",
         "1.0"
        ],
        [
         "8",
         "408.000",
         "1.0"
        ],
        [
         "9",
         "409.000",
         "1.0"
        ],
        [
         "10",
         "410.000",
         "1.0"
        ],
        [
         "11",
         "411.000",
         "1.0"
        ],
        [
         "12",
         "412.000",
         "1.0"
        ],
        [
         "13",
         "413.000",
         "1.0"
        ],
        [
         "14",
         "414.000",
         "1.0"
        ],
        [
         "15",
         "415.000",
         "1.0"
        ],
        [
         "16",
         "416.000",
         "1.0"
        ],
        [
         "17",
         "417.000",
         "1.0"
        ],
        [
         "18",
         "418.000",
         "1.0"
        ],
        [
         "19",
         "419.000",
         "1.0"
        ],
        [
         "20",
         "420.000",
         "1.0"
        ],
        [
         "21",
         "421.000",
         "1.0"
        ],
        [
         "22",
         "422.000",
         "1.0"
        ],
        [
         "23",
         "423.000",
         "1.0"
        ],
        [
         "24",
         "424.000",
         "1.0"
        ],
        [
         "25",
         "425.000",
         "1.0"
        ],
        [
         "26",
         "426.000",
         "1.0"
        ],
        [
         "27",
         "427.000",
         "1.0"
        ],
        [
         "28",
         "428.000",
         "1.0"
        ],
        [
         "29",
         "429.000",
         "1.0"
        ],
        [
         "30",
         "430.000",
         "1.0"
        ],
        [
         "31",
         "431.000",
         "1.0"
        ],
        [
         "32",
         "432.000",
         "1.0"
        ],
        [
         "33",
         "433.000",
         "1.0"
        ],
        [
         "34",
         "434.000",
         "1.0"
        ],
        [
         "35",
         "435.000",
         "1.0"
        ],
        [
         "36",
         "436.000",
         "1.0"
        ],
        [
         "37",
         "437.000",
         "1.0"
        ],
        [
         "38",
         "438.000",
         "1.0"
        ],
        [
         "39",
         "439.000",
         "1.0"
        ],
        [
         "40",
         "440.000",
         "1.0"
        ],
        [
         "41",
         "441.000",
         "1.0"
        ],
        [
         "42",
         "442.000",
         "0.0"
        ],
        [
         "43",
         "443.000",
         "0.0"
        ],
        [
         "44",
         "444.000",
         "0.0"
        ],
        [
         "45",
         "445.000",
         "0.0"
        ],
        [
         "46",
         "446.000",
         "0.0"
        ],
        [
         "47",
         "447.000",
         "0.0"
        ],
        [
         "48",
         "448.000",
         "0.0"
        ],
        [
         "49",
         "449.000",
         "0.0"
        ]
       ],
       "shape": {
        "columns": 2,
        "rows": 2101
       }
      },
      "text/html": [
       "<div>\n",
       "<style scoped>\n",
       "    .dataframe tbody tr th:only-of-type {\n",
       "        vertical-align: middle;\n",
       "    }\n",
       "\n",
       "    .dataframe tbody tr th {\n",
       "        vertical-align: top;\n",
       "    }\n",
       "\n",
       "    .dataframe thead th {\n",
       "        text-align: right;\n",
       "    }\n",
       "</style>\n",
       "<table border=\"1\" class=\"dataframe\">\n",
       "  <thead>\n",
       "    <tr style=\"text-align: right;\">\n",
       "      <th></th>\n",
       "      <th>Wavelengths</th>\n",
       "      <th>count</th>\n",
       "    </tr>\n",
       "  </thead>\n",
       "  <tbody>\n",
       "    <tr>\n",
       "      <th>0</th>\n",
       "      <td>400.000</td>\n",
       "      <td>1.0</td>\n",
       "    </tr>\n",
       "    <tr>\n",
       "      <th>1</th>\n",
       "      <td>401.000</td>\n",
       "      <td>1.0</td>\n",
       "    </tr>\n",
       "    <tr>\n",
       "      <th>2</th>\n",
       "      <td>402.000</td>\n",
       "      <td>1.0</td>\n",
       "    </tr>\n",
       "    <tr>\n",
       "      <th>3</th>\n",
       "      <td>403.000</td>\n",
       "      <td>1.0</td>\n",
       "    </tr>\n",
       "    <tr>\n",
       "      <th>4</th>\n",
       "      <td>404.000</td>\n",
       "      <td>1.0</td>\n",
       "    </tr>\n",
       "    <tr>\n",
       "      <th>...</th>\n",
       "      <td>...</td>\n",
       "      <td>...</td>\n",
       "    </tr>\n",
       "    <tr>\n",
       "      <th>2096</th>\n",
       "      <td>2496.000</td>\n",
       "      <td>0.0</td>\n",
       "    </tr>\n",
       "    <tr>\n",
       "      <th>2097</th>\n",
       "      <td>2497.000</td>\n",
       "      <td>0.0</td>\n",
       "    </tr>\n",
       "    <tr>\n",
       "      <th>2098</th>\n",
       "      <td>2498.000</td>\n",
       "      <td>0.0</td>\n",
       "    </tr>\n",
       "    <tr>\n",
       "      <th>2099</th>\n",
       "      <td>2499.000</td>\n",
       "      <td>0.0</td>\n",
       "    </tr>\n",
       "    <tr>\n",
       "      <th>2100</th>\n",
       "      <td>2500.000</td>\n",
       "      <td>0.0</td>\n",
       "    </tr>\n",
       "  </tbody>\n",
       "</table>\n",
       "<p>2101 rows × 2 columns</p>\n",
       "</div>"
      ],
      "text/plain": [
       "     Wavelengths  count\n",
       "0        400.000    1.0\n",
       "1        401.000    1.0\n",
       "2        402.000    1.0\n",
       "3        403.000    1.0\n",
       "4        404.000    1.0\n",
       "...          ...    ...\n",
       "2096    2496.000    0.0\n",
       "2097    2497.000    0.0\n",
       "2098    2498.000    0.0\n",
       "2099    2499.000    0.0\n",
       "2100    2500.000    0.0\n",
       "\n",
       "[2101 rows x 2 columns]"
      ]
     },
     "execution_count": 3,
     "metadata": {},
     "output_type": "execute_result"
    }
   ],
   "source": [
    "w = c.compute_survived_wavelengths_best_score_single()\n",
    "c.plot_survived_df"
   ]
  },
  {
   "cell_type": "code",
   "execution_count": 4,
   "metadata": {},
   "outputs": [
    {
     "name": "stdout",
     "output_type": "stream",
     "text": [
      "['1000.000', '1001.000', '1002.000', '1003.000', '1004.000', '1005.000', '1006.000', '1007.000', '1008.000', '1009.000', '1010.000', '1011.000', '1012.000', '1013.000', '1014.000', '1015.000', '1016.000', '1017.000', '1018.000', '1019.000', '1020.000', '1021.000', '1022.000', '1023.000', '1024.000', '1025.000', '1026.000', '1027.000', '1028.000', '1029.000', '1072.000', '1073.000', '1074.000', '1075.000', '1076.000', '1077.000', '1078.000', '1079.000', '1080.000', '1081.000', '1082.000', '1083.000', '1084.000', '1085.000', '1086.000', '1087.000', '1088.000', '1089.000', '1090.000', '1091.000', '1092.000', '1177.000', '1178.000', '1179.000', '1180.000', '1181.000', '1182.000', '1183.000', '1184.000', '1185.000', '1186.000', '1187.000', '1188.000', '1189.000', '1190.000', '1191.000', '1192.000', '1193.000', '1194.000', '1195.000', '1196.000', '1197.000', '1219.000', '1220.000', '1221.000', '1222.000', '1223.000', '1224.000', '1225.000', '1226.000', '1227.000', '1228.000', '1229.000', '1230.000', '1231.000', '1232.000', '1233.000', '1234.000', '1235.000', '1236.000', '1237.000', '1238.000', '1239.000', '1261.000', '1262.000', '1263.000', '1264.000', '1265.000', '1266.000', '1267.000', '1268.000', '1269.000', '1270.000', '1271.000', '1272.000', '1273.000', '1274.000', '1275.000', '1276.000', '1277.000', '1278.000', '1279.000', '1280.000', '1281.000', '1345.000', '1346.000', '1347.000', '1348.000', '1349.000', '1350.000', '1351.000', '1352.000', '1353.000', '1354.000', '1355.000', '1356.000', '1357.000', '1358.000', '1359.000', '1360.000', '1361.000', '1362.000', '1363.000', '1364.000', '1365.000', '1408.000', '1409.000', '1410.000', '1411.000', '1412.000', '1413.000', '1414.000', '1415.000', '1416.000', '1417.000', '1418.000', '1419.000', '1420.000', '1421.000', '1422.000', '1423.000', '1424.000', '1425.000', '1426.000', '1427.000', '1428.000', '1450.000', '1451.000', '1452.000', '1453.000', '1454.000', '1455.000', '1456.000', '1457.000', '1458.000', '1459.000', '1460.000', '1461.000', '1462.000', '1463.000', '1464.000', '1465.000', '1466.000', '1467.000', '1468.000', '1469.000', '1470.000', '1597.000', '1598.000', '1599.000', '1600.000', '1601.000', '1602.000', '1603.000', '1604.000', '1605.000', '1606.000', '1607.000', '1608.000', '1609.000', '1610.000', '1611.000', '1612.000', '1613.000', '1614.000', '1615.000', '1616.000', '1617.000', '1639.000', '1640.000', '1641.000', '1642.000', '1643.000', '1644.000', '1645.000', '1646.000', '1647.000', '1648.000', '1649.000', '1650.000', '1651.000', '1652.000', '1653.000', '1654.000', '1655.000', '1656.000', '1657.000', '1658.000', '1659.000', '1660.000', '1661.000', '1662.000', '1663.000', '1664.000', '1665.000', '1666.000', '1667.000', '1668.000', '1669.000', '1670.000', '1671.000', '1672.000', '1673.000', '1674.000', '1675.000', '1676.000', '1677.000', '1678.000', '1679.000', '1680.000', '1849.000', '1850.000', '1851.000', '1852.000', '1853.000', '1854.000', '1855.000', '1856.000', '1857.000', '1858.000', '1859.000', '1860.000', '1861.000', '1862.000', '1863.000', '1864.000', '1865.000', '1866.000', '1867.000', '1868.000', '1869.000', '1870.000', '1871.000', '1872.000', '1873.000', '1874.000', '1875.000', '1876.000', '1877.000', '1878.000', '1879.000', '1880.000', '1881.000', '1882.000', '1883.000', '1884.000', '1885.000', '1886.000', '1887.000', '1888.000', '1889.000', '1890.000', '1954.000', '1955.000', '1956.000', '1957.000', '1958.000', '1959.000', '1960.000', '1961.000', '1962.000', '1963.000', '1964.000', '1965.000', '1966.000', '1967.000', '1968.000', '1969.000', '1970.000', '1971.000', '1972.000', '1973.000', '1974.000', '2080.000', '2081.000', '2082.000', '2083.000', '2084.000', '2085.000', '2086.000', '2087.000', '2088.000', '2089.000', '2090.000', '2091.000', '2092.000', '2093.000', '2094.000', '2095.000', '2096.000', '2097.000', '2098.000', '2099.000', '2100.000', '2206.000', '2207.000', '2208.000', '2209.000', '2210.000', '2211.000', '2212.000', '2213.000', '2214.000', '2215.000', '2216.000', '2217.000', '2218.000', '2219.000', '2220.000', '2221.000', '2222.000', '2223.000', '2224.000', '2225.000', '2226.000', '2248.000', '2249.000', '2250.000', '2251.000', '2252.000', '2253.000', '2254.000', '2255.000', '2256.000', '2257.000', '2258.000', '2259.000', '2260.000', '2261.000', '2262.000', '2263.000', '2264.000', '2265.000', '2266.000', '2267.000', '2268.000', '2353.000', '2354.000', '2355.000', '2356.000', '2357.000', '2358.000', '2359.000', '2360.000', '2361.000', '2362.000', '2363.000', '2364.000', '2365.000', '2366.000', '2367.000', '2368.000', '2369.000', '2370.000', '2371.000', '2372.000', '2373.000', '2437.000', '2438.000', '2439.000', '2440.000', '2441.000', '2442.000', '2443.000', '2444.000', '2445.000', '2446.000', '2447.000', '2448.000', '2449.000', '2450.000', '2451.000', '2452.000', '2453.000', '2454.000', '2455.000', '2456.000', '2457.000', '400.000', '401.000', '402.000', '403.000', '404.000', '405.000', '406.000', '407.000', '408.000', '409.000', '410.000', '411.000', '412.000', '413.000', '414.000', '415.000', '416.000', '417.000', '418.000', '419.000', '420.000', '421.000', '422.000', '423.000', '424.000', '425.000', '426.000', '427.000', '428.000', '429.000', '430.000', '431.000', '432.000', '433.000', '434.000', '435.000', '436.000', '437.000', '438.000', '439.000', '440.000', '441.000', '526.000', '527.000', '528.000', '529.000', '530.000', '531.000', '532.000', '533.000', '534.000', '535.000', '536.000', '537.000', '538.000', '539.000', '540.000', '541.000', '542.000', '543.000', '544.000', '545.000', '546.000', '652.000', '653.000', '654.000', '655.000', '656.000', '657.000', '658.000', '659.000', '660.000', '661.000', '662.000', '663.000', '664.000', '665.000', '666.000', '667.000', '668.000', '669.000', '670.000', '671.000', '672.000', '778.000', '779.000', '780.000', '781.000', '782.000', '783.000', '784.000', '785.000', '786.000', '787.000', '788.000', '789.000', '790.000', '791.000', '792.000', '793.000', '794.000', '795.000', '796.000', '797.000', '798.000', '946.000', '947.000', '948.000', '949.000', '950.000', '951.000', '952.000', '953.000', '954.000', '955.000', '956.000', '957.000', '958.000', '959.000', '960.000', '961.000', '962.000', '963.000', '964.000', '965.000', '966.000', '988.000', '989.000', '990.000', '991.000', '992.000', '993.000', '994.000', '995.000', '996.000', '997.000', '998.000', '999.000']\n",
      "\n",
      "Total combinations to test: 1\n",
      "\n",
      "Combination 0: ['1000.000', '1001.000', '1002.000', '1003.000', '1004.000', '1005.000', '1006.000', '1007.000', '1008.000', '1009.000', '1010.000', '1011.000', '1012.000', '1013.000', '1014.000', '1015.000', '1016.000', '1017.000', '1018.000', '1019.000', '1020.000', '1021.000', '1022.000', '1023.000', '1024.000', '1025.000', '1026.000', '1027.000', '1028.000', '1029.000', '1072.000', '1073.000', '1074.000', '1075.000', '1076.000', '1077.000', '1078.000', '1079.000', '1080.000', '1081.000', '1082.000', '1083.000', '1084.000', '1085.000', '1086.000', '1087.000', '1088.000', '1089.000', '1090.000', '1091.000', '1092.000', '1177.000', '1178.000', '1179.000', '1180.000', '1181.000', '1182.000', '1183.000', '1184.000', '1185.000', '1186.000', '1187.000', '1188.000', '1189.000', '1190.000', '1191.000', '1192.000', '1193.000', '1194.000', '1195.000', '1196.000', '1197.000', '1219.000', '1220.000', '1221.000', '1222.000', '1223.000', '1224.000', '1225.000', '1226.000', '1227.000', '1228.000', '1229.000', '1230.000', '1231.000', '1232.000', '1233.000', '1234.000', '1235.000', '1236.000', '1237.000', '1238.000', '1239.000', '1261.000', '1262.000', '1263.000', '1264.000', '1265.000', '1266.000', '1267.000', '1268.000', '1269.000', '1270.000', '1271.000', '1272.000', '1273.000', '1274.000', '1275.000', '1276.000', '1277.000', '1278.000', '1279.000', '1280.000', '1281.000', '1345.000', '1346.000', '1347.000', '1348.000', '1349.000', '1350.000', '1351.000', '1352.000', '1353.000', '1354.000', '1355.000', '1356.000', '1357.000', '1358.000', '1359.000', '1360.000', '1361.000', '1362.000', '1363.000', '1364.000', '1365.000', '1408.000', '1409.000', '1410.000', '1411.000', '1412.000', '1413.000', '1414.000', '1415.000', '1416.000', '1417.000', '1418.000', '1419.000', '1420.000', '1421.000', '1422.000', '1423.000', '1424.000', '1425.000', '1426.000', '1427.000', '1428.000', '1450.000', '1451.000', '1452.000', '1453.000', '1454.000', '1455.000', '1456.000', '1457.000', '1458.000', '1459.000', '1460.000', '1461.000', '1462.000', '1463.000', '1464.000', '1465.000', '1466.000', '1467.000', '1468.000', '1469.000', '1470.000', '1597.000', '1598.000', '1599.000', '1600.000', '1601.000', '1602.000', '1603.000', '1604.000', '1605.000', '1606.000', '1607.000', '1608.000', '1609.000', '1610.000', '1611.000', '1612.000', '1613.000', '1614.000', '1615.000', '1616.000', '1617.000', '1639.000', '1640.000', '1641.000', '1642.000', '1643.000', '1644.000', '1645.000', '1646.000', '1647.000', '1648.000', '1649.000', '1650.000', '1651.000', '1652.000', '1653.000', '1654.000', '1655.000', '1656.000', '1657.000', '1658.000', '1659.000', '1660.000', '1661.000', '1662.000', '1663.000', '1664.000', '1665.000', '1666.000', '1667.000', '1668.000', '1669.000', '1670.000', '1671.000', '1672.000', '1673.000', '1674.000', '1675.000', '1676.000', '1677.000', '1678.000', '1679.000', '1680.000', '1849.000', '1850.000', '1851.000', '1852.000', '1853.000', '1854.000', '1855.000', '1856.000', '1857.000', '1858.000', '1859.000', '1860.000', '1861.000', '1862.000', '1863.000', '1864.000', '1865.000', '1866.000', '1867.000', '1868.000', '1869.000', '1870.000', '1871.000', '1872.000', '1873.000', '1874.000', '1875.000', '1876.000', '1877.000', '1878.000', '1879.000', '1880.000', '1881.000', '1882.000', '1883.000', '1884.000', '1885.000', '1886.000', '1887.000', '1888.000', '1889.000', '1890.000', '1954.000', '1955.000', '1956.000', '1957.000', '1958.000', '1959.000', '1960.000', '1961.000', '1962.000', '1963.000', '1964.000', '1965.000', '1966.000', '1967.000', '1968.000', '1969.000', '1970.000', '1971.000', '1972.000', '1973.000', '1974.000', '2080.000', '2081.000', '2082.000', '2083.000', '2084.000', '2085.000', '2086.000', '2087.000', '2088.000', '2089.000', '2090.000', '2091.000', '2092.000', '2093.000', '2094.000', '2095.000', '2096.000', '2097.000', '2098.000', '2099.000', '2100.000', '2206.000', '2207.000', '2208.000', '2209.000', '2210.000', '2211.000', '2212.000', '2213.000', '2214.000', '2215.000', '2216.000', '2217.000', '2218.000', '2219.000', '2220.000', '2221.000', '2222.000', '2223.000', '2224.000', '2225.000', '2226.000', '2248.000', '2249.000', '2250.000', '2251.000', '2252.000', '2253.000', '2254.000', '2255.000', '2256.000', '2257.000', '2258.000', '2259.000', '2260.000', '2261.000', '2262.000', '2263.000', '2264.000', '2265.000', '2266.000', '2267.000', '2268.000', '2353.000', '2354.000', '2355.000', '2356.000', '2357.000', '2358.000', '2359.000', '2360.000', '2361.000', '2362.000', '2363.000', '2364.000', '2365.000', '2366.000', '2367.000', '2368.000', '2369.000', '2370.000', '2371.000', '2372.000', '2373.000', '2437.000', '2438.000', '2439.000', '2440.000', '2441.000', '2442.000', '2443.000', '2444.000', '2445.000', '2446.000', '2447.000', '2448.000', '2449.000', '2450.000', '2451.000', '2452.000', '2453.000', '2454.000', '2455.000', '2456.000', '2457.000', '400.000', '401.000', '402.000', '403.000', '404.000', '405.000', '406.000', '407.000', '408.000', '409.000', '410.000', '411.000', '412.000', '413.000', '414.000', '415.000', '416.000', '417.000', '418.000', '419.000', '420.000', '421.000', '422.000', '423.000', '424.000', '425.000', '426.000', '427.000', '428.000', '429.000', '430.000', '431.000', '432.000', '433.000', '434.000', '435.000', '436.000', '437.000', '438.000', '439.000', '440.000', '441.000', '526.000', '527.000', '528.000', '529.000', '530.000', '531.000', '532.000', '533.000', '534.000', '535.000', '536.000', '537.000', '538.000', '539.000', '540.000', '541.000', '542.000', '543.000', '544.000', '545.000', '546.000', '652.000', '653.000', '654.000', '655.000', '656.000', '657.000', '658.000', '659.000', '660.000', '661.000', '662.000', '663.000', '664.000', '665.000', '666.000', '667.000', '668.000', '669.000', '670.000', '671.000', '672.000', '778.000', '779.000', '780.000', '781.000', '782.000', '783.000', '784.000', '785.000', '786.000', '787.000', '788.000', '789.000', '790.000', '791.000', '792.000', '793.000', '794.000', '795.000', '796.000', '797.000', '798.000', '946.000', '947.000', '948.000', '949.000', '950.000', '951.000', '952.000', '953.000', '954.000', '955.000', '956.000', '957.000', '958.000', '959.000', '960.000', '961.000', '962.000', '963.000', '964.000', '965.000', '966.000', '988.000', '989.000', '990.000', '991.000', '992.000', '993.000', '994.000', '995.000', '996.000', '997.000', '998.000', '999.000']\n",
      "Number of wavelengths: 546\n",
      "Accuracy: 0.82, Recall: 0.89, Precision: 0.77, F1: 0.83 , nLV: 9, Cutoff: 0.50\n",
      "\n",
      "False & 546 & 0.82 & 0.89 & 0.77 & 0.83  & 9.00  & 0.50 \\\\ \\hline\n",
      "\n",
      "Mismatched: [('19-Jul-2023', 'Healty', 60, 168), ('20-Jun-2023', 'Healty', 40, 94), ('28-Jun-2023', 'Healty', 40, 114), ('20-Jun-2023', 'Healty', 40, 96), ('28-Jun-2023', 'Healty', 40, 130), ('17-May-2023', 'Unhealty', 20, 46), ('17-May-2023', 'Unhealty', 20, 51)]\n",
      "Corresponding Stress_weight values:\n",
      " Index([60, 40, 40, 40, 40, 20, 20], dtype='int64', name='Stress_weight')\n"
     ]
    },
    {
     "data": {
      "image/png": "[encoded data removed]",
      "text/plain": [
       "<Figure size 600x600 with 1 Axes>"
      ]
     },
     "metadata": {},
     "output_type": "display_data"
    }
   ],
   "source": [
    "a, l, y_pred = c.accuracy_survived_wavelenghts(thr=None, rdm=False, all=False, model_type='PLS', wavelengths=[w], learning_curve=False, pls_plot=False, peak_detection=False, confusion_matrix_f=True)\n",
    "\n",
    "import numpy as np\n",
    "import pandas as pd\n",
    "\n",
    "# Step 1 & 2: Find indices where predictions differ from true values\n",
    "diff_indices = np.where(y_pred != c.y_test_2.flatten())[0]\n",
    "# print(diff_indices)\n",
    "\n",
    "# Step 3: Extract corresponding rows from c.df_test_2\n",
    "diff_rows = c.df_test_2.iloc[diff_indices]\n",
    "\n",
    "# Step 4: Filter rows where class is 'Uhealty'\n",
    "stress_rows = diff_rows[diff_rows.index.get_level_values('Class') == 'Unhealty']\n",
    "\n",
    "# Step : Extract 'Stress_weight' column\n",
    "stress_weights = diff_rows.index.get_level_values('Stress_weight')\n",
    "\n",
    "# If you want to print or return the results\n",
    "print(\"Mismatched:\", diff_rows.index.tolist())\n",
    "print(\"Corresponding Stress_weight values:\\n\", stress_weights)"
   ]
  },
  {
   "cell_type": "code",
   "execution_count": 5,
   "metadata": {},
   "outputs": [],
   "source": [
    "# for i in l:\n",
    "#     print(len(i))\n",
    "#     c.permutation_test(wavelengths=i)"
   ]
  }
 ],
 "metadata": {
  "kernelspec": {
   "display_name": "Python 3",
   "language": "python",
   "name": "python3"
  },
  "language_info": {
   "codemirror_mode": {
    "name": "ipython",
    "version": 3
   },
   "file_extension": ".py",
   "mimetype": "text/x-python",
   "name": "python",
   "nbconvert_exporter": "python",
   "pygments_lexer": "ipython3",
   "version": "3.11.11"
  }
 },
 "nbformat": 4,
 "nbformat_minor": 2
}
